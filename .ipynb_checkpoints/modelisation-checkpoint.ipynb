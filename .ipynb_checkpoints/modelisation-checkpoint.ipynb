{
 "cells": [
  {
   "cell_type": "code",
   "execution_count": 34,
   "id": "f23e2926",
   "metadata": {},
   "outputs": [],
   "source": [
    "from gurobipy import *\n",
    "from utils import (get_parameters, generate_mapping_names, generate_mapping_qualifications,\n",
    "                   generate_qualifications_matrix, generate_working_days_matrix,\n",
    "                   generate_working_days_per_qualification_matrix, generate_due_dates_matrix,\n",
    "                   generate_gains_vect, generate_penalties_vect)\n",
    "from display_utils import print_plannings\n",
    "from lp_utils import (generate_variables_and_constraints, set_objective_and_solve,\n",
    "                      add_epsilon_constraint, solve_epsilon_constraint, run_epsilon_constraint,\n",
    "                     is_pareto_efficient,filter_pareto_front)"
   ]
  },
  {
   "cell_type": "code",
   "execution_count": 35,
   "id": "9799d870",
   "metadata": {},
   "outputs": [],
   "source": [
    "import json\n",
    "with open('instances/instances_given/toy_instance.json') as f:\n",
    "    json_instance = json.load(f)\n",
    "    f.close()"
   ]
  },
  {
   "cell_type": "code",
   "execution_count": 36,
   "id": "f27565ca",
   "metadata": {},
   "outputs": [
    {
     "data": {
      "text/plain": [
       "{'horizon': 5,\n",
       " 'qualifications': ['A', 'B', 'C'],\n",
       " 'staff': [{'name': 'Olivia',\n",
       "   'qualifications': ['A', 'B', 'C'],\n",
       "   'vacations': []},\n",
       "  {'name': 'Liam', 'qualifications': ['A', 'B'], 'vacations': [1]},\n",
       "  {'name': 'Emma', 'qualifications': ['C'], 'vacations': [2]}],\n",
       " 'jobs': [{'name': 'Job1',\n",
       "   'gain': 20,\n",
       "   'due_date': 3,\n",
       "   'daily_penalty': 3,\n",
       "   'working_days_per_qualification': {'A': 1, 'B': 1, 'C': 1}},\n",
       "  {'name': 'Job2',\n",
       "   'gain': 15,\n",
       "   'due_date': 3,\n",
       "   'daily_penalty': 3,\n",
       "   'working_days_per_qualification': {'A': 1, 'B': 2}},\n",
       "  {'name': 'Job3',\n",
       "   'gain': 15,\n",
       "   'due_date': 4,\n",
       "   'daily_penalty': 3,\n",
       "   'working_days_per_qualification': {'A': 1, 'C': 2}},\n",
       "  {'name': 'Job4',\n",
       "   'gain': 20,\n",
       "   'due_date': 3,\n",
       "   'daily_penalty': 3,\n",
       "   'working_days_per_qualification': {'B': 2, 'C': 1}},\n",
       "  {'name': 'Job5',\n",
       "   'gain': 10,\n",
       "   'due_date': 5,\n",
       "   'daily_penalty': 3,\n",
       "   'working_days_per_qualification': {'C': 2}}]}"
      ]
     },
     "execution_count": 36,
     "metadata": {},
     "output_type": "execute_result"
    }
   ],
   "source": [
    "json_instance"
   ]
  },
  {
   "cell_type": "code",
   "execution_count": 37,
   "id": "9b683b2d",
   "metadata": {},
   "outputs": [],
   "source": [
    "N,M,K,T = get_parameters(json_instance)"
   ]
  },
  {
   "cell_type": "code",
   "execution_count": 38,
   "id": "e346f071",
   "metadata": {},
   "outputs": [],
   "source": [
    "mapping_names = generate_mapping_names(json_instance)\n",
    "mapping_qualif = generate_mapping_qualifications(json_instance)\n",
    "qualifications_mat = generate_qualifications_matrix(json_instance,mapping_qualif,N,K)\n",
    "working_days_mat = generate_working_days_matrix(json_instance,N,T)\n",
    "wd_per_qual_mat = generate_working_days_per_qualification_matrix(json_instance, mapping_qualif, M, K)\n",
    "due_dates_mat = generate_due_dates_matrix(json_instance, M, T)\n",
    "gains_vect = generate_gains_vect(json_instance, M)\n",
    "penalties_vect = generate_penalties_vect(json_instance, M)"
   ]
  },
  {
   "cell_type": "code",
   "execution_count": 39,
   "id": "dc72fe99",
   "metadata": {},
   "outputs": [],
   "source": [
    "m = generate_variables_and_constraints(N,M,K,T,qualifications_mat, working_days_mat, wd_per_qual_mat)\n",
    "                "
   ]
  },
  {
   "cell_type": "markdown",
   "id": "fce257d5",
   "metadata": {},
   "source": [
    "## Resolution du programme monobjectif maximisant le gain obtenu"
   ]
  },
  {
   "cell_type": "code",
   "execution_count": 40,
   "id": "f16d978d",
   "metadata": {},
   "outputs": [],
   "source": [
    "obj1_1,obj2_1,obj3_1 = set_objective_and_solve(m,1,gains_vect,penalties_vect,due_dates_mat,M,T)"
   ]
  },
  {
   "cell_type": "code",
   "execution_count": 41,
   "id": "6d80a333",
   "metadata": {},
   "outputs": [
    {
     "name": "stdout",
     "output_type": "stream",
     "text": [
      "La valeur optimale de l'objectif de gain est 65\n",
      "Le nombre max de projet/pers et de durée max d'un projet sont alors 5 et 4\n",
      "planning de Olivia : \n",
      "jour 1 :  projet 4, compétence B\n",
      "\n",
      "jour 2 :  projet 2, compétence B\n",
      "\n",
      "jour 3 :  projet 1, compétence B\n",
      "\n",
      "jour 4 :  projet 3, compétence C\n",
      "\n",
      "jour 5 :  projet 5, compétence C\n",
      "\n",
      "planning de Liam : \n",
      "jour 1 :  jour de congé\n",
      "\n",
      "jour 2 :  projet 4, compétence B\n",
      "\n",
      "jour 3 :  projet 1, compétence A\n",
      "\n",
      "jour 4 :  projet 3, compétence A\n",
      "\n",
      "jour 5 :  projet 2, compétence B\n",
      "\n",
      "planning de Emma : \n",
      "jour 1 :  projet 4, compétence C\n",
      "\n",
      "jour 2 :  jour de congé\n",
      "\n",
      "jour 3 :  projet 1, compétence C\n",
      "\n",
      "jour 4 :  projet 3, compétence C\n",
      "\n",
      "jour 5 :  projet 5, compétence C\n",
      "\n"
     ]
    }
   ],
   "source": [
    "print(\"La valeur optimale de l'objectif de gain est {}\".format(obj1_1))\n",
    "print(\"Le nombre max de projet/pers et de durée max d'un projet sont alors {} et {}\".format(obj2_1,obj3_1))\n",
    "obj1_opti = obj1_1\n",
    "print_plannings(N,M,K,T,mapping_names,working_days_mat,json_instance['qualifications'],m)"
   ]
  },
  {
   "cell_type": "markdown",
   "id": "b745fb5c",
   "metadata": {},
   "source": [
    "## Resolution du programme monobjectif minimisant le nombre maximal de projets affectés à un membre du staff\n"
   ]
  },
  {
   "cell_type": "code",
   "execution_count": 42,
   "id": "f394a993",
   "metadata": {},
   "outputs": [],
   "source": [
    "obj1_2,obj2_2,obj3_2 = set_objective_and_solve(m,2,gains_vect,penalties_vect,due_dates_mat,M,T)"
   ]
  },
  {
   "cell_type": "code",
   "execution_count": 43,
   "id": "fb725836",
   "metadata": {},
   "outputs": [
    {
     "name": "stdout",
     "output_type": "stream",
     "text": [
      "La valeur optimale de l'objectif de minimisation du nombre de projets/pers est 0\n",
      "Le gain et la durée max d'un projet sont alors 0 et 0\n",
      "planning de Olivia : \n",
      "jour 1 :  \n",
      "jour 2 :  \n",
      "jour 3 :  \n",
      "jour 4 :  \n",
      "jour 5 :  \n",
      "planning de Liam : \n",
      "jour 1 :  jour de congé\n",
      "\n",
      "jour 2 :  \n",
      "jour 3 :  \n",
      "jour 4 :  \n",
      "jour 5 :  \n",
      "planning de Emma : \n",
      "jour 1 :  \n",
      "jour 2 :  jour de congé\n",
      "\n",
      "jour 3 :  \n",
      "jour 4 :  \n",
      "jour 5 :  \n"
     ]
    }
   ],
   "source": [
    "print(\"La valeur optimale de l'objectif de minimisation du nombre de projets/pers est {}\".format(obj2_2))\n",
    "print(\"Le gain et la durée max d'un projet sont alors {} et {}\".format(obj1_2,obj3_2))\n",
    "obj2_opti = obj2_2\n",
    "print_plannings(N,M,K,T,mapping_names,working_days_mat,json_instance['qualifications'],m)"
   ]
  },
  {
   "cell_type": "markdown",
   "id": "5779d01a",
   "metadata": {},
   "source": [
    "## Resolution du programme monobjectif minimisant la durée maximale d'un projet"
   ]
  },
  {
   "cell_type": "code",
   "execution_count": 44,
   "id": "e11d6dac",
   "metadata": {},
   "outputs": [],
   "source": [
    "obj1_3,obj2_3,obj3_3 = set_objective_and_solve(m,3,gains_vect,penalties_vect,due_dates_mat,M,T)"
   ]
  },
  {
   "cell_type": "code",
   "execution_count": 45,
   "id": "6359cdb0",
   "metadata": {},
   "outputs": [
    {
     "name": "stdout",
     "output_type": "stream",
     "text": [
      "La valeur optimale de l'objectif de minimisation de la durée des projets est 0\n",
      "Le gain et le nombre max de projets/pers sont alors 0 et 0\n",
      "planning de Olivia : \n",
      "jour 1 :  \n",
      "jour 2 :  \n",
      "jour 3 :  \n",
      "jour 4 :  \n",
      "jour 5 :  \n",
      "planning de Liam : \n",
      "jour 1 :  jour de congé\n",
      "\n",
      "jour 2 :  \n",
      "jour 3 :  \n",
      "jour 4 :  \n",
      "jour 5 :  \n",
      "planning de Emma : \n",
      "jour 1 :  \n",
      "jour 2 :  jour de congé\n",
      "\n",
      "jour 3 :  \n",
      "jour 4 :  \n",
      "jour 5 :  \n"
     ]
    }
   ],
   "source": [
    "print(\"La valeur optimale de l'objectif de minimisation de la durée des projets est {}\".format(obj3_3))\n",
    "print(\"Le gain et le nombre max de projets/pers sont alors {} et {}\".format(obj1_3,obj2_3))\n",
    "obj3_opti = obj2_3\n",
    "print_plannings(N,M,K,T,mapping_names,working_days_mat,json_instance['qualifications'],m)"
   ]
  },
  {
   "cell_type": "markdown",
   "id": "01b95b9a",
   "metadata": {},
   "source": [
    "## Génération des solutions efficaces (surface de pareto)"
   ]
  },
  {
   "cell_type": "code",
   "execution_count": 46,
   "id": "f9a6e429",
   "metadata": {},
   "outputs": [
    {
     "data": {
      "text/plain": [
       "(65, 0, 0)"
      ]
     },
     "execution_count": 46,
     "metadata": {},
     "output_type": "execute_result"
    }
   ],
   "source": [
    "optimal_sol = obj1_opti, obj2_opti, obj3_opti\n",
    "optimal_sol"
   ]
  },
  {
   "cell_type": "code",
   "execution_count": 47,
   "id": "dae3b669",
   "metadata": {},
   "outputs": [
    {
     "data": {
      "text/plain": [
       "(0, 5, 5)"
      ]
     },
     "execution_count": 47,
     "metadata": {},
     "output_type": "execute_result"
    }
   ],
   "source": [
    "nadir_sol = (0,M,T)\n",
    "nadir_sol"
   ]
  },
  {
   "cell_type": "code",
   "execution_count": 48,
   "id": "9fec7ba6",
   "metadata": {},
   "outputs": [
    {
     "name": "stdout",
     "output_type": "stream",
     "text": [
      "step with eps2 = 5 and eps3 = 5\n",
      "solution found :  [-65, 5, 1]\n",
      "step with eps2 = 5 and eps3 = 0\n",
      "solution found :  [-59, 5, 0]\n",
      "step with eps2 = 4 and eps3 = 5\n",
      "solution found :  [-65, 4, 1]\n",
      "step with eps2 = 4 and eps3 = 0\n",
      "solution found :  [-59, 4, 0]\n",
      "step with eps2 = 3 and eps3 = 5\n",
      "solution found :  [-65, 3, 2]\n",
      "step with eps2 = 3 and eps3 = 1\n",
      "solution found :  [-65, 3, 1]\n",
      "step with eps2 = 3 and eps3 = 0\n",
      "solution found :  [-49, 3, 0]\n",
      "step with eps2 = 2 and eps3 = 5\n",
      "solution found :  [-65, 2, 2]\n",
      "step with eps2 = 2 and eps3 = 1\n",
      "solution found :  [-55, 2, 1]\n",
      "step with eps2 = 2 and eps3 = 0\n",
      "solution found :  [-37, 2, 0]\n",
      "step with eps2 = 1 and eps3 = 5\n",
      "solution found :  [-42, 1, 2]\n",
      "step with eps2 = 1 and eps3 = 1\n",
      "solution found :  [-30, 1, 1]\n",
      "step with eps2 = 1 and eps3 = 0\n",
      "solution found :  [-20, 1, 0]\n",
      "step with eps2 = 0 and eps3 = 5\n",
      "solution found :  [0, 0, 0]\n"
     ]
    }
   ],
   "source": [
    "pareto_surface_non_filtered, epsilon_constraints = run_epsilon_constraint(m,optimal_sol,nadir_sol,gains_vect,penalties_vect,due_dates_mat,M,T)"
   ]
  },
  {
   "cell_type": "code",
   "execution_count": 49,
   "id": "3be8eb61",
   "metadata": {},
   "outputs": [],
   "source": [
    "mask = is_pareto_efficient(pareto_surface_non_filtered)\n",
    "pareto_surface = filter_pareto_front(pareto_surface_non_filtered,mask)\n",
    "epsilon_cstr = epsilon_constraints[mask]"
   ]
  },
  {
   "cell_type": "code",
   "execution_count": 50,
   "id": "82227870",
   "metadata": {},
   "outputs": [
    {
     "data": {
      "text/plain": [
       "array([[59,  4,  0],\n",
       "       [65,  3,  1],\n",
       "       [49,  3,  0],\n",
       "       [65,  2,  2],\n",
       "       [55,  2,  1],\n",
       "       [37,  2,  0],\n",
       "       [42,  1,  2],\n",
       "       [30,  1,  1],\n",
       "       [20,  1,  0],\n",
       "       [ 0,  0,  0]])"
      ]
     },
     "execution_count": 50,
     "metadata": {},
     "output_type": "execute_result"
    }
   ],
   "source": [
    "pareto_surface"
   ]
  },
  {
   "cell_type": "code",
   "execution_count": 51,
   "id": "1a0ca584",
   "metadata": {},
   "outputs": [
    {
     "data": {
      "text/plain": [
       "<mpl_toolkits.mplot3d.art3d.Path3DCollection at 0x16d70e4dba0>"
      ]
     },
     "execution_count": 51,
     "metadata": {},
     "output_type": "execute_result"
    },
    {
     "data": {
      "image/png": "[encoded data removed]",
      "text/plain": [
       "<Figure size 640x480 with 1 Axes>"
      ]
     },
     "metadata": {},
     "output_type": "display_data"
    }
   ],
   "source": [
    "from mpl_toolkits import mplot3d\n",
    "import matplotlib.pyplot as plt\n",
    "fig = plt.figure()\n",
    "ax = plt.axes(projection='3d')\n",
    "\n",
    "x_data = [t[0] for t in pareto_surface]\n",
    "y_data = [t[1] for t in pareto_surface]\n",
    "z_data = [t[2] for t in pareto_surface]\n",
    "ax.scatter3D(x_data,y_data,z_data)"
   ]
  },
  {
   "cell_type": "markdown",
   "id": "a317a58c",
   "metadata": {},
   "source": [
    "## Inférence des préférences"
   ]
  },
  {
   "cell_type": "markdown",
   "id": "60b4effc",
   "metadata": {},
   "source": [
    "Définissons $\\lambda$=0.75, w=[0.5, 0.25, 0.25]. Répartissons les exemples en 3 classes en fonction des relations de dominance obtenues et essayons de voir si notre système est capable de retrouver les classes des exemples manquants si on ne lui fournit qu'une partie des exemples classifiés"
   ]
  },
  {
   "cell_type": "code",
   "execution_count": 52,
   "id": "5e5e1bba",
   "metadata": {},
   "outputs": [],
   "source": [
    "from preferences_utils import infer_classes, solve_lp_preferences"
   ]
  },
  {
   "cell_type": "code",
   "execution_count": 64,
   "id": "97c0f2c0",
   "metadata": {},
   "outputs": [
    {
     "name": "stdout",
     "output_type": "stream",
     "text": [
      "s1 ne domine pas s2\n",
      "s1 domine s3\n",
      "s1 ne domine pas s4\n",
      "s1 domine s5\n",
      "s1 domine s6\n",
      "s1 domine s7\n",
      "s1 domine s8\n",
      "s1 domine s9\n",
      "s1 domine s10\n",
      "======================\n",
      "s2 domine s1\n",
      "s2 domine s3\n",
      "s2 domine s4\n",
      "s2 domine s5\n",
      "s2 ne domine pas s6\n",
      "s2 domine s7\n",
      "s2 domine s8\n",
      "s2 ne domine pas s9\n",
      "s2 ne domine pas s10\n",
      "======================\n",
      "s3 ne domine pas s1\n",
      "s3 ne domine pas s2\n",
      "s3 ne domine pas s4\n",
      "s3 ne domine pas s5\n",
      "s3 domine s6\n",
      "s3 domine s7\n",
      "s3 domine s8\n",
      "s3 domine s9\n",
      "s3 domine s10\n",
      "======================\n",
      "s4 domine s1\n",
      "s4 domine s2\n",
      "s4 domine s3\n",
      "s4 domine s5\n",
      "s4 domine s6\n",
      "s4 domine s7\n",
      "s4 ne domine pas s8\n",
      "s4 ne domine pas s9\n",
      "s4 ne domine pas s10\n",
      "======================\n",
      "s5 ne domine pas s1\n",
      "s5 ne domine pas s2\n",
      "s5 domine s3\n",
      "s5 ne domine pas s4\n",
      "s5 domine s6\n",
      "s5 domine s7\n",
      "s5 domine s8\n",
      "s5 ne domine pas s9\n",
      "s5 ne domine pas s10\n",
      "======================\n",
      "s6 ne domine pas s1\n",
      "s6 ne domine pas s2\n",
      "s6 ne domine pas s3\n",
      "s6 ne domine pas s4\n",
      "s6 ne domine pas s5\n",
      "s6 ne domine pas s7\n",
      "s6 domine s8\n",
      "s6 domine s9\n",
      "s6 domine s10\n",
      "======================\n",
      "s7 ne domine pas s1\n",
      "s7 ne domine pas s2\n",
      "s7 ne domine pas s3\n",
      "s7 ne domine pas s4\n",
      "s7 ne domine pas s5\n",
      "s7 domine s6\n",
      "s7 domine s8\n",
      "s7 domine s9\n",
      "s7 ne domine pas s10\n",
      "======================\n",
      "s8 ne domine pas s1\n",
      "s8 ne domine pas s2\n",
      "s8 ne domine pas s3\n",
      "s8 ne domine pas s4\n",
      "s8 ne domine pas s5\n",
      "s8 ne domine pas s6\n",
      "s8 ne domine pas s7\n",
      "s8 domine s9\n",
      "s8 ne domine pas s10\n",
      "======================\n",
      "s9 ne domine pas s1\n",
      "s9 ne domine pas s2\n",
      "s9 ne domine pas s3\n",
      "s9 ne domine pas s4\n",
      "s9 ne domine pas s5\n",
      "s9 ne domine pas s6\n",
      "s9 ne domine pas s7\n",
      "s9 ne domine pas s8\n",
      "s9 domine s10\n",
      "======================\n",
      "s10 ne domine pas s1\n",
      "s10 ne domine pas s2\n",
      "s10 ne domine pas s3\n",
      "s10 ne domine pas s4\n",
      "s10 ne domine pas s5\n",
      "s10 ne domine pas s6\n",
      "s10 ne domine pas s7\n",
      "s10 ne domine pas s8\n",
      "s10 ne domine pas s9\n",
      "======================\n"
     ]
    }
   ],
   "source": [
    "import numpy as np\n",
    "lam = 0.75\n",
    "w = np.array([0.5, 0.25, 0.25])\n",
    "\n",
    "sols_to_compare = pareto_surface.copy()\n",
    "sols_to_compare[:,1] *= -1\n",
    "sols_to_compare[:,2] *= -1\n",
    "\n",
    "for i in range(sols_to_compare.shape[0]) :\n",
    "    for j in range(sols_to_compare.shape[0]):\n",
    "        if i != j :\n",
    "            if np.sum([w[k] for k in range(3) if sols_to_compare[i][k] >= sols_to_compare[j][k] ]) >= lam :\n",
    "                print('s{} domine s{}'.format(i+1,j+1))\n",
    "            else : \n",
    "                print('s{} ne domine pas s{}'.format(i+1,j+1))\n",
    "    print('======================')\n",
    "        \n",
    "    "
   ]
  },
  {
   "cell_type": "markdown",
   "id": "14b265ce",
   "metadata": {},
   "source": [
    "On choisit les affectations suivantes :\n",
    "\n",
    "C1 =  {s8, s9, s10, s6}\n",
    "\n",
    "C2 = {s5, s7, s3}\n",
    "\n",
    "C3 = {s1,s2, s4}"
   ]
  },
  {
   "cell_type": "markdown",
   "id": "7d135d5a",
   "metadata": {},
   "source": [
    "Essayons maintenant de fournir quelques exemples par classe à notre programme pour voir comment il classifie les exemples restants"
   ]
  },
  {
   "cell_type": "code",
   "execution_count": 65,
   "id": "aefd978a",
   "metadata": {},
   "outputs": [],
   "source": [
    "inacceptable = sols_to_compare[[8,9,5]]\n",
    "correct = sols_to_compare[[2,4]]\n",
    "satisfaisant = sols_to_compare[[0,1]]"
   ]
  },
  {
   "cell_type": "code",
   "execution_count": 66,
   "id": "f7972140",
   "metadata": {},
   "outputs": [
    {
     "name": "stdout",
     "output_type": "stream",
     "text": [
      "(0.500001, [0.5, 0.0, 0.5])\n",
      "(0.500001, [0.5, 0.0, 0.5])\n",
      "(0.5, [1.0, 0.0, 0.0])\n",
      "(0.5, [1.0, 0.0, 0.0])\n",
      "(0.5, [1.0, 0.0, 0.0])\n",
      "(0.500001, [0.5, 0.5, 0.0])\n",
      "(0.5, [1.0, 0.0, 0.0])\n",
      "(0.500001, [0.5, 0.5, 0.0])\n",
      "(0.500001, [0.5, 0.5, 0.0])\n"
     ]
    },
    {
     "data": {
      "text/plain": [
       "{(65, -2, -2): ['inacceptable', 'correct', 'satisfaisant'],\n",
       " (42, -1, -2): ['inacceptable', 'correct', 'satisfaisant'],\n",
       " (30, -1, -1): ['inacceptable', 'correct', 'satisfaisant']}"
      ]
     },
     "execution_count": 66,
     "metadata": {},
     "output_type": "execute_result"
    }
   ],
   "source": [
    "infer_classes(inacceptable, correct, satisfaisant,sols_to_compare[[3,6,7]])"
   ]
  },
  {
   "cell_type": "markdown",
   "id": "219cfd87",
   "metadata": {},
   "source": [
    "Sur la toy instance qui ne comporte que 10 solutions efficaces, il est quasiment toujours possible de trouver un jeu de poids respectant les classifications du décideur pour lequel un élément non classifié appartient à une classe donnée.\n",
    "On n'a pas assez de contraintes"
   ]
  },
  {
   "cell_type": "code",
   "execution_count": 67,
   "id": "206d90b0",
   "metadata": {},
   "outputs": [],
   "source": [
    "inacceptable = sols_to_compare[[5,7,8,9]]\n",
    "correct = sols_to_compare[[2,4,6]]\n",
    "satisfaisant = sols_to_compare[[0,1,3]]"
   ]
  },
  {
   "cell_type": "code",
   "execution_count": 68,
   "id": "184210a3",
   "metadata": {},
   "outputs": [
    {
     "data": {
      "text/plain": [
       "(0.5, [1.0, 0.0, 0.0])"
      ]
     },
     "execution_count": 68,
     "metadata": {},
     "output_type": "execute_result"
    }
   ],
   "source": [
    "solve_lp_preferences(inacceptable,correct,satisfaisant)"
   ]
  },
  {
   "cell_type": "markdown",
   "id": "e34bcfbf",
   "metadata": {},
   "source": [
    "Si on lui passe toutes les instances classifiées, notre programme trouve $\\lambda$=0.5, w=[1.0, 0, 0].\n",
    "Cela n'est pas étonnant puisque dans la configuration que nous avons choisie, la première composante des solutions satisfaisantes dans l'espace des critères est toujours plus grande que la première composante des solutions correctes. De plus, la première composante des solutions correctes dans l'espace des critères est toujours plus grande que la première composante des solutions inacceptables dans cet espace."
   ]
  },
  {
   "cell_type": "code",
   "execution_count": null,
   "id": "6a77c5ca",
   "metadata": {},
   "outputs": [],
   "source": []
  }
 ],
 "metadata": {
  "kernelspec": {
   "display_name": "Python 3 (ipykernel)",
   "language": "python",
   "name": "python3"
  },
  "language_info": {
   "codemirror_mode": {
    "name": "ipython",
    "version": 3
   },
   "file_extension": ".py",
   "mimetype": "text/x-python",
   "name": "python",
   "nbconvert_exporter": "python",
   "pygments_lexer": "ipython3",
   "version": "3.10.7"
  }
 },
 "nbformat": 4,
 "nbformat_minor": 5
}

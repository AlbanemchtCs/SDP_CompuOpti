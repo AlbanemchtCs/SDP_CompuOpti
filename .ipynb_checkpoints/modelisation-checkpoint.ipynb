{
 "cells": [
  {
   "cell_type": "code",
   "execution_count": 17,
   "id": "f23e2926",
   "metadata": {},
   "outputs": [],
   "source": [
    "from gurobipy import *\n",
    "from utils import (get_parameters, generate_mapping_names, generate_mapping_qualifications,\n",
    "                   generate_qualifications_matrix, generate_working_days_matrix,\n",
    "                   generate_working_days_per_qualification_matrix, generate_due_dates_matrix,\n",
    "                   generate_gains_vect, generate_penalties_vect)\n",
    "from display_utils import print_plannings\n",
    "from lp_utils import (generate_variables_and_constraints, set_objective_and_solve,\n",
    "                      add_epsilon_constraint, solve_epsilon_constraint, run_epsilon_constraint,\n",
    "                     is_pareto_efficient)"
   ]
  },
  {
   "cell_type": "code",
   "execution_count": 2,
   "id": "9799d870",
   "metadata": {},
   "outputs": [],
   "source": [
    "import json\n",
    "with open('instances/instances_given/toy_instance.json') as f:\n",
    "    json_instance = json.load(f)\n",
    "    f.close()"
   ]
  },
  {
   "cell_type": "code",
   "execution_count": 3,
   "id": "f27565ca",
   "metadata": {},
   "outputs": [
    {
     "data": {
      "text/plain": [
       "{'horizon': 5,\n",
       " 'qualifications': ['A', 'B', 'C'],\n",
       " 'staff': [{'name': 'Olivia',\n",
       "   'qualifications': ['A', 'B', 'C'],\n",
       "   'vacations': []},\n",
       "  {'name': 'Liam', 'qualifications': ['A', 'B'], 'vacations': [1]},\n",
       "  {'name': 'Emma', 'qualifications': ['C'], 'vacations': [2]}],\n",
       " 'jobs': [{'name': 'Job1',\n",
       "   'gain': 20,\n",
       "   'due_date': 3,\n",
       "   'daily_penalty': 3,\n",
       "   'working_days_per_qualification': {'A': 1, 'B': 1, 'C': 1}},\n",
       "  {'name': 'Job2',\n",
       "   'gain': 15,\n",
       "   'due_date': 3,\n",
       "   'daily_penalty': 3,\n",
       "   'working_days_per_qualification': {'A': 1, 'B': 2}},\n",
       "  {'name': 'Job3',\n",
       "   'gain': 15,\n",
       "   'due_date': 4,\n",
       "   'daily_penalty': 3,\n",
       "   'working_days_per_qualification': {'A': 1, 'C': 2}},\n",
       "  {'name': 'Job4',\n",
       "   'gain': 20,\n",
       "   'due_date': 3,\n",
       "   'daily_penalty': 3,\n",
       "   'working_days_per_qualification': {'B': 2, 'C': 1}},\n",
       "  {'name': 'Job5',\n",
       "   'gain': 10,\n",
       "   'due_date': 5,\n",
       "   'daily_penalty': 3,\n",
       "   'working_days_per_qualification': {'C': 2}}]}"
      ]
     },
     "execution_count": 3,
     "metadata": {},
     "output_type": "execute_result"
    }
   ],
   "source": [
    "json_instance"
   ]
  },
  {
   "cell_type": "code",
   "execution_count": 4,
   "id": "9b683b2d",
   "metadata": {},
   "outputs": [],
   "source": [
    "N,M,K,T = get_parameters(json_instance)"
   ]
  },
  {
   "cell_type": "code",
   "execution_count": 5,
   "id": "e346f071",
   "metadata": {},
   "outputs": [],
   "source": [
    "mapping_names = generate_mapping_names(json_instance)\n",
    "mapping_qualif = generate_mapping_qualifications(json_instance)\n",
    "qualifications_mat = generate_qualifications_matrix(json_instance,mapping_qualif,N,K)\n",
    "working_days_mat = generate_working_days_matrix(json_instance,N,T)\n",
    "wd_per_qual_mat = generate_working_days_per_qualification_matrix(json_instance, mapping_qualif, M, K)\n",
    "due_dates_mat = generate_due_dates_matrix(json_instance, M, T)\n",
    "gains_vect = generate_gains_vect(json_instance, M)\n",
    "penalties_vect = generate_penalties_vect(json_instance, M)"
   ]
  },
  {
   "cell_type": "code",
   "execution_count": 6,
   "id": "dc72fe99",
   "metadata": {},
   "outputs": [
    {
     "name": "stdout",
     "output_type": "stream",
     "text": [
      "Set parameter Username\n",
      "Academic license - for non-commercial use only - expires 2023-12-11\n"
     ]
    }
   ],
   "source": [
    "m = generate_variables_and_constraints(N,M,K,T,qualifications_mat, working_days_mat, wd_per_qual_mat)\n",
    "                "
   ]
  },
  {
   "cell_type": "markdown",
   "id": "5d2d6ec2",
   "metadata": {},
   "source": [
    "## Resolution du programme monobjectif maximisant le gain obtenu"
   ]
  },
  {
   "cell_type": "code",
   "execution_count": 7,
   "id": "b73cc479",
   "metadata": {},
   "outputs": [],
   "source": [
    "obj1_1,obj2_1,obj3_1 = set_objective_and_solve(m,1,gains_vect,penalties_vect,due_dates_mat,M,T)"
   ]
  },
  {
   "cell_type": "code",
   "execution_count": 8,
   "id": "f5e8a82c",
   "metadata": {},
   "outputs": [
    {
     "name": "stdout",
     "output_type": "stream",
     "text": [
      "La valeur optimale de l'objectif de gain est 65\n",
      "Le nombre max de projet/pers et de durée max d'un projet sont alors 5 et 4\n",
      "planning de Olivia : \n",
      "jour 1 :  projet 4, compétence B\n",
      "\n",
      "jour 2 :  projet 2, compétence B\n",
      "\n",
      "jour 3 :  projet 1, compétence B\n",
      "\n",
      "jour 4 :  projet 3, compétence C\n",
      "\n",
      "jour 5 :  projet 5, compétence C\n",
      "\n",
      "planning de Liam : \n",
      "jour 1 :  jour de congé\n",
      "\n",
      "jour 2 :  projet 4, compétence B\n",
      "\n",
      "jour 3 :  projet 1, compétence A\n",
      "\n",
      "jour 4 :  projet 3, compétence A\n",
      "\n",
      "jour 5 :  projet 2, compétence B\n",
      "\n",
      "planning de Emma : \n",
      "jour 1 :  projet 4, compétence C\n",
      "\n",
      "jour 2 :  jour de congé\n",
      "\n",
      "jour 3 :  projet 1, compétence C\n",
      "\n",
      "jour 4 :  projet 3, compétence C\n",
      "\n",
      "jour 5 :  projet 5, compétence C\n",
      "\n"
     ]
    }
   ],
   "source": [
    "print(\"La valeur optimale de l'objectif de gain est {}\".format(obj1_1))\n",
    "print(\"Le nombre max de projet/pers et de durée max d'un projet sont alors {} et {}\".format(obj2_1,obj3_1))\n",
    "obj1_opti = obj1_1\n",
    "print_plannings(N,M,K,T,mapping_names,working_days_mat,json_instance['qualifications'],m)"
   ]
  },
  {
   "cell_type": "markdown",
   "id": "eca7cd1b",
   "metadata": {},
   "source": [
    "## Resolution du programme monobjectif minimisant le nombre maximal de projets affectés à un membre du staff\n"
   ]
  },
  {
   "cell_type": "code",
   "execution_count": 9,
   "id": "665a2380",
   "metadata": {},
   "outputs": [],
   "source": [
    "obj1_2,obj2_2,obj3_2 = set_objective_and_solve(m,2,gains_vect,penalties_vect,due_dates_mat,M,T)"
   ]
  },
  {
   "cell_type": "code",
   "execution_count": 10,
   "id": "21f6f1ee",
   "metadata": {},
   "outputs": [
    {
     "name": "stdout",
     "output_type": "stream",
     "text": [
      "La valeur optimale de l'objectif de minimisation du nombre de projets/pers est 0\n",
      "Le gain et la durée max d'un projet sont alors 0 et 0\n",
      "planning de Olivia : \n",
      "jour 1 :  \n",
      "jour 2 :  \n",
      "jour 3 :  \n",
      "jour 4 :  \n",
      "jour 5 :  \n",
      "planning de Liam : \n",
      "jour 1 :  jour de congé\n",
      "\n",
      "jour 2 :  \n",
      "jour 3 :  \n",
      "jour 4 :  \n",
      "jour 5 :  \n",
      "planning de Emma : \n",
      "jour 1 :  \n",
      "jour 2 :  jour de congé\n",
      "\n",
      "jour 3 :  \n",
      "jour 4 :  \n",
      "jour 5 :  \n"
     ]
    }
   ],
   "source": [
    "print(\"La valeur optimale de l'objectif de minimisation du nombre de projets/pers est {}\".format(obj2_2))\n",
    "print(\"Le gain et la durée max d'un projet sont alors {} et {}\".format(obj1_2,obj3_2))\n",
    "obj2_opti = obj2_2\n",
    "print_plannings(N,M,K,T,mapping_names,working_days_mat,json_instance['qualifications'],m)"
   ]
  },
  {
   "cell_type": "markdown",
   "id": "68c3c178",
   "metadata": {},
   "source": [
    "## Resolution du programme monobjectif minimisant la durée maximale d'un projet"
   ]
  },
  {
   "cell_type": "code",
   "execution_count": 11,
   "id": "e11d6dac",
   "metadata": {},
   "outputs": [],
   "source": [
    "obj1_3,obj2_3,obj3_3 = set_objective_and_solve(m,3,gains_vect,penalties_vect,due_dates_mat,M,T)"
   ]
  },
  {
   "cell_type": "code",
   "execution_count": 12,
   "id": "72a0f65a",
   "metadata": {},
   "outputs": [
    {
     "name": "stdout",
     "output_type": "stream",
     "text": [
      "La valeur optimale de l'objectif de minimisation de la durée des projets est 0\n",
      "Le gain et le nombre max de projets/pers sont alors 0 et 0\n",
      "planning de Olivia : \n",
      "jour 1 :  \n",
      "jour 2 :  \n",
      "jour 3 :  \n",
      "jour 4 :  \n",
      "jour 5 :  \n",
      "planning de Liam : \n",
      "jour 1 :  jour de congé\n",
      "\n",
      "jour 2 :  \n",
      "jour 3 :  \n",
      "jour 4 :  \n",
      "jour 5 :  \n",
      "planning de Emma : \n",
      "jour 1 :  \n",
      "jour 2 :  jour de congé\n",
      "\n",
      "jour 3 :  \n",
      "jour 4 :  \n",
      "jour 5 :  \n"
     ]
    }
   ],
   "source": [
    "print(\"La valeur optimale de l'objectif de minimisation de la durée des projets est {}\".format(obj3_3))\n",
    "print(\"Le gain et le nombre max de projets/pers sont alors {} et {}\".format(obj1_3,obj2_3))\n",
    "obj3_opti = obj2_3\n",
    "print_plannings(N,M,K,T,mapping_names,working_days_mat,json_instance['qualifications'],m)"
   ]
  },
  {
   "cell_type": "markdown",
   "id": "f6c93158",
   "metadata": {},
   "source": [
    "## Génération des solutions efficaces (surface de pareto)"
   ]
  },
  {
   "cell_type": "code",
   "execution_count": 13,
   "id": "f9a6e429",
   "metadata": {},
   "outputs": [
    {
     "data": {
      "text/plain": [
       "(65, 0, 0)"
      ]
     },
     "execution_count": 13,
     "metadata": {},
     "output_type": "execute_result"
    }
   ],
   "source": [
    "optimal_sol = obj1_opti, obj2_opti, obj3_opti\n",
    "optimal_sol"
   ]
  },
  {
   "cell_type": "code",
   "execution_count": 14,
   "id": "dae3b669",
   "metadata": {},
   "outputs": [
    {
     "data": {
      "text/plain": [
       "(0, 5, 5)"
      ]
     },
     "execution_count": 14,
     "metadata": {},
     "output_type": "execute_result"
    }
   ],
   "source": [
    "nadir_sol = (0,M,T)\n",
    "nadir_sol"
   ]
  },
  {
   "cell_type": "code",
   "execution_count": 15,
   "id": "9fec7ba6",
   "metadata": {},
   "outputs": [
    {
     "name": "stdout",
     "output_type": "stream",
     "text": [
      "step with eps2 = 5 and eps3 = 5\n",
      "solution found :  [65, 5, 1]\n",
      "step with eps2 = 5 and eps3 = 0\n",
      "solution found :  [59, 5, 0]\n",
      "step with eps2 = 4 and eps3 = 5\n",
      "solution found :  [59, 4, 0]\n",
      "step with eps2 = 3 and eps3 = 5\n",
      "solution found :  [49, 3, 0]\n",
      "step with eps2 = 2 and eps3 = 5\n",
      "solution found :  [37, 2, 0]\n",
      "step with eps2 = 1 and eps3 = 5\n",
      "solution found :  [20, 1, 0]\n",
      "step with eps2 = 0 and eps3 = 5\n",
      "solution found :  [0, 0, 0]\n"
     ]
    }
   ],
   "source": [
    "pareto_surface_non_filtered, epsilon_constraints = run_epsilon_constraint(m,optimal_sol,nadir_sol,gains_vect,penalties_vect,due_dates_mat,M,T)"
   ]
  },
  {
   "cell_type": "code",
   "execution_count": 19,
   "id": "3be8eb61",
   "metadata": {},
   "outputs": [],
   "source": [
    "mask = is_pareto_efficient(pareto_surface_non_filtered)\n",
    "pareto_surface = filter_pareto_front(pareto_surface_non_filtered)\n",
    "epsilon_cstr = epsilon_constraints[mask]"
   ]
  },
  {
   "cell_type": "code",
   "execution_count": 20,
   "id": "82227870",
   "metadata": {},
   "outputs": [
    {
     "data": {
      "text/plain": [
       "array([[0, 0, 0]])"
      ]
     },
     "execution_count": 20,
     "metadata": {},
     "output_type": "execute_result"
    }
   ],
   "source": [
    "pareto_surface"
   ]
  },
  {
   "cell_type": "code",
   "execution_count": 29,
   "id": "1a0ca584",
   "metadata": {},
   "outputs": [
    {
     "data": {
      "text/plain": [
       "<mpl_toolkits.mplot3d.art3d.Path3DCollection at 0x1f69498d270>"
      ]
     },
     "execution_count": 29,
     "metadata": {},
     "output_type": "execute_result"
    },
    {
     "data": {
      "image/png": "[encoded data removed]",
      "text/plain": [
       "<Figure size 640x480 with 1 Axes>"
      ]
     },
     "metadata": {},
     "output_type": "display_data"
    }
   ],
   "source": [
    "from mpl_toolkits import mplot3d\n",
    "import matplotlib.pyplot as plt\n",
    "fig = plt.figure()\n",
    "ax = plt.axes(projection='3d')\n",
    "\n",
    "x_data = [t[0] for t in pareto_surface]\n",
    "y_data = [t[1] for t in pareto_surface]\n",
    "z_data = [t[2] for t in pareto_surface]\n",
    "ax.scatter3D(x_data,y_data,z_data)"
   ]
  },
  {
   "cell_type": "code",
   "execution_count": 67,
   "id": "51baec54",
   "metadata": {},
   "outputs": [
    {
     "name": "stdout",
     "output_type": "stream",
     "text": [
      "planning for eps2 = 4 and eps3 = 0\n",
      "planning de Olivia : \n",
      "jour 1 :  projet 5, compétence C\n",
      "jour 2 :  jour 3 :  projet 4, compétence B\n",
      "jour 4 :  projet 3, compétence C\n",
      "jour 5 :  projet 1, compétence B\n",
      "planning de Liam : \n",
      "jour 1 :  jour de congé\n",
      "jour 2 :  jour 3 :  projet 4, compétence B\n",
      "jour 4 :  projet 3, compétence A\n",
      "jour 5 :  projet 1, compétence A\n",
      "planning de Emma : \n",
      "jour 1 :  projet 5, compétence C\n",
      "jour 2 :  jour de congé\n",
      "jour 3 :  projet 4, compétence C\n",
      "jour 4 :  projet 3, compétence C\n",
      "jour 5 :  projet 1, compétence C\n",
      "==================================\n",
      "planning for eps2 = 3 and eps3 = 1\n",
      "planning de Olivia : \n",
      "jour 1 :  projet 1, compétence A\n",
      "jour 2 :  projet 1, compétence B\n",
      "jour 3 :  projet 3, compétence C\n",
      "jour 4 :  projet 3, compétence C\n",
      "jour 5 :  projet 5, compétence C\n",
      "planning de Liam : \n",
      "jour 1 :  jour de congé\n",
      "jour 2 :  projet 4, compétence B\n",
      "jour 3 :  projet 4, compétence B\n",
      "jour 4 :  projet 3, compétence A\n",
      "jour 5 :  projet 2, compétence B\n",
      "planning de Emma : \n",
      "jour 1 :  projet 1, compétence C\n",
      "jour 2 :  jour de congé\n",
      "jour 3 :  projet 4, compétence C\n",
      "jour 4 :  jour 5 :  projet 5, compétence C\n",
      "==================================\n",
      "planning for eps2 = 3 and eps3 = 0\n",
      "planning de Olivia : \n",
      "jour 1 :  jour 2 :  jour 3 :  projet 1, compétence A\n",
      "jour 4 :  projet 4, compétence B\n",
      "jour 5 :  projet 3, compétence C\n",
      "planning de Liam : \n",
      "jour 1 :  jour de congé\n",
      "jour 2 :  jour 3 :  projet 1, compétence B\n",
      "jour 4 :  projet 4, compétence B\n",
      "jour 5 :  projet 3, compétence A\n",
      "planning de Emma : \n",
      "jour 1 :  jour 2 :  jour de congé\n",
      "jour 3 :  projet 1, compétence C\n",
      "jour 4 :  projet 4, compétence C\n",
      "jour 5 :  projet 3, compétence C\n",
      "==================================\n",
      "planning for eps2 = 2 and eps3 = 2\n",
      "planning de Olivia : \n",
      "jour 1 :  projet 4, compétence B\n",
      "jour 2 :  projet 4, compétence B\n",
      "jour 3 :  projet 4, compétence C\n",
      "jour 4 :  projet 5, compétence C\n",
      "jour 5 :  projet 5, compétence C\n",
      "planning de Liam : \n",
      "jour 1 :  jour de congé\n",
      "jour 2 :  projet 1, compétence B\n",
      "jour 3 :  projet 1, compétence A\n",
      "jour 4 :  projet 3, compétence A\n",
      "jour 5 :  planning de Emma : \n",
      "jour 1 :  projet 1, compétence C\n",
      "jour 2 :  jour de congé\n",
      "jour 3 :  projet 3, compétence C\n",
      "jour 4 :  projet 3, compétence C\n",
      "jour 5 :  ==================================\n",
      "planning for eps2 = 2 and eps3 = 1\n",
      "planning de Olivia : \n",
      "jour 1 :  projet 1, compétence B\n",
      "jour 2 :  projet 1, compétence A\n",
      "jour 3 :  projet 4, compétence C\n",
      "jour 4 :  jour 5 :  planning de Liam : \n",
      "jour 1 :  jour de congé\n",
      "jour 2 :  projet 4, compétence B\n",
      "jour 3 :  projet 4, compétence B\n",
      "jour 4 :  projet 3, compétence A\n",
      "jour 5 :  planning de Emma : \n",
      "jour 1 :  projet 1, compétence C\n",
      "jour 2 :  jour de congé\n",
      "jour 3 :  projet 3, compétence C\n",
      "jour 4 :  projet 3, compétence C\n",
      "jour 5 :  ==================================\n",
      "planning for eps2 = 2 and eps3 = 0\n",
      "planning de Olivia : \n",
      "jour 1 :  jour 2 :  jour 3 :  projet 4, compétence B\n",
      "jour 4 :  projet 1, compétence B\n",
      "jour 5 :  planning de Liam : \n",
      "jour 1 :  jour de congé\n",
      "jour 2 :  jour 3 :  projet 4, compétence B\n",
      "jour 4 :  projet 1, compétence A\n",
      "jour 5 :  planning de Emma : \n",
      "jour 1 :  jour 2 :  jour de congé\n",
      "jour 3 :  projet 4, compétence C\n",
      "jour 4 :  projet 1, compétence C\n",
      "jour 5 :  ==================================\n",
      "planning for eps2 = 1 and eps3 = 2\n",
      "planning de Olivia : \n",
      "jour 1 :  projet 4, compétence B\n",
      "jour 2 :  projet 4, compétence B\n",
      "jour 3 :  projet 4, compétence C\n",
      "jour 4 :  jour 5 :  planning de Liam : \n",
      "jour 1 :  jour de congé\n",
      "jour 2 :  projet 2, compétence A\n",
      "jour 3 :  projet 2, compétence B\n",
      "jour 4 :  projet 2, compétence B\n",
      "jour 5 :  planning de Emma : \n",
      "jour 1 :  projet 5, compétence C\n",
      "jour 2 :  jour de congé\n",
      "jour 3 :  projet 5, compétence C\n",
      "jour 4 :  jour 5 :  ==================================\n",
      "planning for eps2 = 1 and eps3 = 1\n",
      "planning de Olivia : \n",
      "jour 1 :  jour 2 :  projet 4, compétence C\n",
      "jour 3 :  projet 4, compétence B\n",
      "jour 4 :  jour 5 :  planning de Liam : \n",
      "jour 1 :  jour de congé\n",
      "jour 2 :  jour 3 :  projet 4, compétence B\n",
      "jour 4 :  jour 5 :  planning de Emma : \n",
      "jour 1 :  jour 2 :  jour de congé\n",
      "jour 3 :  jour 4 :  projet 5, compétence C\n",
      "jour 5 :  projet 5, compétence C\n",
      "==================================\n",
      "planning for eps2 = 1 and eps3 = 0\n",
      "planning de Olivia : \n",
      "jour 1 :  jour 2 :  jour 3 :  projet 1, compétence A\n",
      "jour 4 :  jour 5 :  planning de Liam : \n",
      "jour 1 :  jour de congé\n",
      "jour 2 :  jour 3 :  projet 1, compétence B\n",
      "jour 4 :  jour 5 :  planning de Emma : \n",
      "jour 1 :  jour 2 :  jour de congé\n",
      "jour 3 :  projet 1, compétence C\n",
      "jour 4 :  jour 5 :  ==================================\n",
      "planning for eps2 = 0 and eps3 = 0\n",
      "planning de Olivia : \n",
      "jour 1 :  jour 2 :  jour 3 :  jour 4 :  jour 5 :  planning de Liam : \n",
      "jour 1 :  jour de congé\n",
      "jour 2 :  jour 3 :  jour 4 :  jour 5 :  planning de Emma : \n",
      "jour 1 :  jour 2 :  jour de congé\n",
      "jour 3 :  jour 4 :  jour 5 :  ==================================\n"
     ]
    }
   ],
   "source": [
    "for eps in epsilon_cstr :\n",
    "    solve_epsilon_constraint_prog(eps, verbose=True)"
   ]
  },
  {
   "cell_type": "code",
   "execution_count": 30,
   "id": "8e5268f8",
   "metadata": {},
   "outputs": [],
   "source": [
    "def infer_preference_model(inacceptable, correct, satisfaisant):\n",
    "    # Instanciation du modèle\n",
    "    m = Model(\"PL inference préférences\")\n",
    "\n",
    "    # Vecteur de variables\n",
    "    w = m.addVars(3,name=\"w\",lb=0, ub=1)\n",
    "    l = m.addVar(name=\"lambda\",lb=0.5,ub=1)\n",
    "\n",
    "    m.update()\n",
    "    \n",
    "    m.addConstrs((quicksum([w[i] for i in range(3) if inacceptable[m][i]>=correct[n][i] ]) <= l-1e-6 for m in range(len(inacceptable)) for n in range(len(correct)) ), name=\"comparaison innacceptable et correct\")\n",
    "    m.addConstrs((quicksum([w[i] for i in range(3) if inacceptable[m][i]>=satisfaisant[n][i] ]) <= l-1e-6 for m in range(len(inacceptable)) for n in range(len(satisfaisant))), name=\"comparaison innacceptable et satisfaisant\")\n",
    "    m.addConstrs((quicksum([w[i] for i in range(3) if correct[m][i]>=satisfaisant[n][i] ]) <= l-1e-6 for m in range(len(correct)) for n in range(len(satisfaisant)) ), name=\"comparaison correct et satisfaisant\")\n",
    "    m.addConstr(quicksum([w[i] for i in range(3)])==1)\n",
    "    m.addConstr(l <= 1-1e-8)\n",
    "    \n",
    "    obj = l\n",
    "    m.setObjective(obj, GRB.MINIMIZE)\n",
    "\n",
    "    # Paramétrage (mode mute)\n",
    "    m.params.outputflag = 0\n",
    "\n",
    "    # Résolution du PL\n",
    "    m.optimize()\n",
    "    \n",
    "    if m.status == GRB.INFEASIBLE :\n",
    "        raise Exception('no solution')\n",
    "    \n",
    "    return (m.objVal, [v.X for v in w.values()])\n"
   ]
  },
  {
   "cell_type": "code",
   "execution_count": 224,
   "id": "7db403fd",
   "metadata": {},
   "outputs": [],
   "source": [
    "\n",
    "\n",
    "pareto_surface = np.abs(pareto_surface)\n",
    "\n",
    "def generate_dominance_mat(w,lam):\n",
    "    dominance_mat = np.zeros((len(pareto_surface),len(pareto_surface)))\n",
    "    for i in range(len(pareto_surface)):\n",
    "        for j in range(len(pareto_surface)):\n",
    "            if i != j :\n",
    "                print(f'comparing a{i+1} and a{j+1}')\n",
    "                x = pareto_surface[i]\n",
    "                y = pareto_surface[j]\n",
    "                s = np.sum([w[k] for k in range(3) if x[k] >= y[k]])\n",
    "                if s >= lam :\n",
    "                    dominance_mat[i,j]=1\n",
    "                    print(f'a{i+1} domine a{j+1}')\n",
    "                else :\n",
    "                    print(f'a{i+1} ne domine pas a{j+1}')\n",
    "                print('====================')\n",
    "    return dominance_mat\n"
   ]
  },
  {
   "cell_type": "code",
   "execution_count": 225,
   "id": "3441ce55",
   "metadata": {},
   "outputs": [
    {
     "name": "stdout",
     "output_type": "stream",
     "text": [
      "comparing a1 and a2\n",
      "a1 ne domine pas a2\n",
      "====================\n",
      "comparing a1 and a3\n",
      "a1 domine a3\n",
      "====================\n",
      "comparing a1 and a4\n",
      "a1 ne domine pas a4\n",
      "====================\n",
      "comparing a1 and a5\n",
      "a1 ne domine pas a5\n",
      "====================\n",
      "comparing a1 and a6\n",
      "a1 domine a6\n",
      "====================\n",
      "comparing a1 and a7\n",
      "a1 ne domine pas a7\n",
      "====================\n",
      "comparing a1 and a8\n",
      "a1 ne domine pas a8\n",
      "====================\n",
      "comparing a1 and a9\n",
      "a1 domine a9\n",
      "====================\n",
      "comparing a1 and a10\n",
      "a1 domine a10\n",
      "====================\n",
      "comparing a2 and a1\n",
      "a2 ne domine pas a1\n",
      "====================\n",
      "comparing a2 and a3\n",
      "a2 domine a3\n",
      "====================\n",
      "comparing a2 and a4\n",
      "a2 ne domine pas a4\n",
      "====================\n",
      "comparing a2 and a5\n",
      "a2 domine a5\n",
      "====================\n",
      "comparing a2 and a6\n",
      "a2 domine a6\n",
      "====================\n",
      "comparing a2 and a7\n",
      "a2 ne domine pas a7\n",
      "====================\n",
      "comparing a2 and a8\n",
      "a2 domine a8\n",
      "====================\n",
      "comparing a2 and a9\n",
      "a2 domine a9\n",
      "====================\n",
      "comparing a2 and a10\n",
      "a2 domine a10\n",
      "====================\n",
      "comparing a3 and a1\n",
      "a3 ne domine pas a1\n",
      "====================\n",
      "comparing a3 and a2\n",
      "a3 ne domine pas a2\n",
      "====================\n",
      "comparing a3 and a4\n",
      "a3 ne domine pas a4\n",
      "====================\n",
      "comparing a3 and a5\n",
      "a3 ne domine pas a5\n",
      "====================\n",
      "comparing a3 and a6\n",
      "a3 domine a6\n",
      "====================\n",
      "comparing a3 and a7\n",
      "a3 ne domine pas a7\n",
      "====================\n",
      "comparing a3 and a8\n",
      "a3 ne domine pas a8\n",
      "====================\n",
      "comparing a3 and a9\n",
      "a3 domine a9\n",
      "====================\n",
      "comparing a3 and a10\n",
      "a3 domine a10\n",
      "====================\n",
      "comparing a4 and a1\n",
      "a4 ne domine pas a1\n",
      "====================\n",
      "comparing a4 and a2\n",
      "a4 ne domine pas a2\n",
      "====================\n",
      "comparing a4 and a3\n",
      "a4 ne domine pas a3\n",
      "====================\n",
      "comparing a4 and a5\n",
      "a4 domine a5\n",
      "====================\n",
      "comparing a4 and a6\n",
      "a4 domine a6\n",
      "====================\n",
      "comparing a4 and a7\n",
      "a4 domine a7\n",
      "====================\n",
      "comparing a4 and a8\n",
      "a4 domine a8\n",
      "====================\n",
      "comparing a4 and a9\n",
      "a4 domine a9\n",
      "====================\n",
      "comparing a4 and a10\n",
      "a4 domine a10\n",
      "====================\n",
      "comparing a5 and a1\n",
      "a5 ne domine pas a1\n",
      "====================\n",
      "comparing a5 and a2\n",
      "a5 ne domine pas a2\n",
      "====================\n",
      "comparing a5 and a3\n",
      "a5 ne domine pas a3\n",
      "====================\n",
      "comparing a5 and a4\n",
      "a5 ne domine pas a4\n",
      "====================\n",
      "comparing a5 and a6\n",
      "a5 domine a6\n",
      "====================\n",
      "comparing a5 and a7\n",
      "a5 ne domine pas a7\n",
      "====================\n",
      "comparing a5 and a8\n",
      "a5 domine a8\n",
      "====================\n",
      "comparing a5 and a9\n",
      "a5 domine a9\n",
      "====================\n",
      "comparing a5 and a10\n",
      "a5 domine a10\n",
      "====================\n",
      "comparing a6 and a1\n",
      "a6 ne domine pas a1\n",
      "====================\n",
      "comparing a6 and a2\n",
      "a6 ne domine pas a2\n",
      "====================\n",
      "comparing a6 and a3\n",
      "a6 ne domine pas a3\n",
      "====================\n",
      "comparing a6 and a4\n",
      "a6 ne domine pas a4\n",
      "====================\n",
      "comparing a6 and a5\n",
      "a6 ne domine pas a5\n",
      "====================\n",
      "comparing a6 and a7\n",
      "a6 ne domine pas a7\n",
      "====================\n",
      "comparing a6 and a8\n",
      "a6 ne domine pas a8\n",
      "====================\n",
      "comparing a6 and a9\n",
      "a6 domine a9\n",
      "====================\n",
      "comparing a6 and a10\n",
      "a6 domine a10\n",
      "====================\n",
      "comparing a7 and a1\n",
      "a7 ne domine pas a1\n",
      "====================\n",
      "comparing a7 and a2\n",
      "a7 ne domine pas a2\n",
      "====================\n",
      "comparing a7 and a3\n",
      "a7 ne domine pas a3\n",
      "====================\n",
      "comparing a7 and a4\n",
      "a7 ne domine pas a4\n",
      "====================\n",
      "comparing a7 and a5\n",
      "a7 ne domine pas a5\n",
      "====================\n",
      "comparing a7 and a6\n",
      "a7 ne domine pas a6\n",
      "====================\n",
      "comparing a7 and a8\n",
      "a7 domine a8\n",
      "====================\n",
      "comparing a7 and a9\n",
      "a7 domine a9\n",
      "====================\n",
      "comparing a7 and a10\n",
      "a7 domine a10\n",
      "====================\n",
      "comparing a8 and a1\n",
      "a8 ne domine pas a1\n",
      "====================\n",
      "comparing a8 and a2\n",
      "a8 ne domine pas a2\n",
      "====================\n",
      "comparing a8 and a3\n",
      "a8 ne domine pas a3\n",
      "====================\n",
      "comparing a8 and a4\n",
      "a8 ne domine pas a4\n",
      "====================\n",
      "comparing a8 and a5\n",
      "a8 ne domine pas a5\n",
      "====================\n",
      "comparing a8 and a6\n",
      "a8 ne domine pas a6\n",
      "====================\n",
      "comparing a8 and a7\n",
      "a8 ne domine pas a7\n",
      "====================\n",
      "comparing a8 and a9\n",
      "a8 domine a9\n",
      "====================\n",
      "comparing a8 and a10\n",
      "a8 domine a10\n",
      "====================\n",
      "comparing a9 and a1\n",
      "a9 ne domine pas a1\n",
      "====================\n",
      "comparing a9 and a2\n",
      "a9 ne domine pas a2\n",
      "====================\n",
      "comparing a9 and a3\n",
      "a9 ne domine pas a3\n",
      "====================\n",
      "comparing a9 and a4\n",
      "a9 ne domine pas a4\n",
      "====================\n",
      "comparing a9 and a5\n",
      "a9 ne domine pas a5\n",
      "====================\n",
      "comparing a9 and a6\n",
      "a9 ne domine pas a6\n",
      "====================\n",
      "comparing a9 and a7\n",
      "a9 ne domine pas a7\n",
      "====================\n",
      "comparing a9 and a8\n",
      "a9 ne domine pas a8\n",
      "====================\n",
      "comparing a9 and a10\n",
      "a9 domine a10\n",
      "====================\n",
      "comparing a10 and a1\n",
      "a10 ne domine pas a1\n",
      "====================\n",
      "comparing a10 and a2\n",
      "a10 ne domine pas a2\n",
      "====================\n",
      "comparing a10 and a3\n",
      "a10 ne domine pas a3\n",
      "====================\n",
      "comparing a10 and a4\n",
      "a10 ne domine pas a4\n",
      "====================\n",
      "comparing a10 and a5\n",
      "a10 ne domine pas a5\n",
      "====================\n",
      "comparing a10 and a6\n",
      "a10 ne domine pas a6\n",
      "====================\n",
      "comparing a10 and a7\n",
      "a10 ne domine pas a7\n",
      "====================\n",
      "comparing a10 and a8\n",
      "a10 ne domine pas a8\n",
      "====================\n",
      "comparing a10 and a9\n",
      "a10 ne domine pas a9\n",
      "====================\n"
     ]
    },
    {
     "data": {
      "text/plain": [
       "array([[0., 0., 1., 0., 0., 1., 0., 0., 1., 1.],\n",
       "       [0., 0., 1., 0., 1., 1., 0., 1., 1., 1.],\n",
       "       [0., 0., 0., 0., 0., 1., 0., 0., 1., 1.],\n",
       "       [0., 0., 0., 0., 1., 1., 1., 1., 1., 1.],\n",
       "       [0., 0., 0., 0., 0., 1., 0., 1., 1., 1.],\n",
       "       [0., 0., 0., 0., 0., 0., 0., 0., 1., 1.],\n",
       "       [0., 0., 0., 0., 0., 0., 0., 1., 1., 1.],\n",
       "       [0., 0., 0., 0., 0., 0., 0., 0., 1., 1.],\n",
       "       [0., 0., 0., 0., 0., 0., 0., 0., 0., 1.],\n",
       "       [0., 0., 0., 0., 0., 0., 0., 0., 0., 0.]])"
      ]
     },
     "execution_count": 225,
     "metadata": {},
     "output_type": "execute_result"
    }
   ],
   "source": [
    "generate_dominance_mat(np.array([0.2, 0.4, 0.4]),1)"
   ]
  },
  {
   "cell_type": "code",
   "execution_count": 238,
   "id": "af2e07e6",
   "metadata": {},
   "outputs": [],
   "source": [
    "inacceptable = pareto_surface[[5,7,9]]\n",
    "correct = pareto_surface[[0,2,4,6]]\n",
    "satisfaisant = pareto_surface[[1,3]]\n",
    "\n",
    "\n",
    "\n",
    "#infer_preference_model(inacceptable,correct,satisfaisant)"
   ]
  },
  {
   "cell_type": "code",
   "execution_count": 239,
   "id": "5a1f324d",
   "metadata": {},
   "outputs": [
    {
     "name": "stdout",
     "output_type": "stream",
     "text": [
      "[[37.  2.  0.]\n",
      " [30.  1.  1.]\n",
      " [ 0.  0.  0.]]\n",
      "[[59.  4.  0.]\n",
      " [49.  3.  0.]\n",
      " [55.  2.  1.]\n",
      " [42.  1.  2.]]\n",
      "[[65.  3.  1.]\n",
      " [65.  2.  2.]]\n"
     ]
    }
   ],
   "source": [
    "print(inacceptable)\n",
    "print(correct)\n",
    "print(satisfaisant)"
   ]
  },
  {
   "cell_type": "code",
   "execution_count": 240,
   "id": "97c0f2c0",
   "metadata": {},
   "outputs": [],
   "source": [
    "def predict_class(inacceptable, correct, satisfaisant,remaining_actions):\n",
    "    action_classes = dict()\n",
    "    for a in remaining_actions :\n",
    "        action_classes[tuple(a)] = []\n",
    "        try :\n",
    "            print(infer_preference_model(np.concatenate((inacceptable,a.reshape(1,3))),correct,satisfaisant))\n",
    "            action_classes[tuple(a)].append('inacceptable')\n",
    "        except :\n",
    "            pass\n",
    "        try :\n",
    "            print(infer_preference_model(inacceptable,np.concatenate((correct,a.reshape(1,3))),satisfaisant))\n",
    "            action_classes[tuple(a)].append('correct')\n",
    "        except :\n",
    "            pass\n",
    "        try :\n",
    "            print(infer_preference_model(inacceptable,correct,np.concatenate((satisfaisant,a.reshape(1,3)))))\n",
    "            action_classes[tuple(a)].append('satisfaisant')\n",
    "        except :\n",
    "            pass\n",
    "    return action_classes\n",
    "        \n",
    "        \n",
    "        \n",
    "    "
   ]
  },
  {
   "cell_type": "code",
   "execution_count": 241,
   "id": "69602e16",
   "metadata": {},
   "outputs": [
    {
     "name": "stdout",
     "output_type": "stream",
     "text": [
      "(0.5, [1.0, 0.0, 0.0])\n"
     ]
    },
    {
     "data": {
      "text/plain": [
       "{(20.0, 1.0, 0.0): ['inacceptable']}"
      ]
     },
     "execution_count": 241,
     "metadata": {},
     "output_type": "execute_result"
    }
   ],
   "source": [
    "predict_class(inacceptable,correct,satisfaisant, [pareto_surface[8]])"
   ]
  },
  {
   "cell_type": "code",
   "execution_count": null,
   "id": "ca5c325c",
   "metadata": {},
   "outputs": [],
   "source": []
  }
 ],
 "metadata": {
  "kernelspec": {
   "display_name": "Python 3 (ipykernel)",
   "language": "python",
   "name": "python3"
  },
  "language_info": {
   "codemirror_mode": {
    "name": "ipython",
    "version": 3
   },
   "file_extension": ".py",
   "mimetype": "text/x-python",
   "name": "python",
   "nbconvert_exporter": "python",
   "pygments_lexer": "ipython3",
   "version": "3.10.7"
  }
 },
 "nbformat": 4,
 "nbformat_minor": 5
}

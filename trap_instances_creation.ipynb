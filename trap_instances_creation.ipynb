{
 "cells": [
  {
   "cell_type": "markdown",
   "id": "b1ac5414-d6c1-4629-974b-dc0154feca4f",
   "metadata": {},
   "source": [
    "# Création des instances pièges\n",
    "\n",
    "\n",
    "L'objectif est de regarder les comportements aux limites de l'optimiseur lorsqu'il travaille sur des instances spécialement créées pour être difficile à traiter.\n",
    "\n",
    "\n",
    "Comment créer une instance piège : \n",
    "\n",
    "- rendre difficile l'optimisation selon le critère 3 : proposer des projets qui ne sont pas réalisables en 1 jour\n"
   ]
  },
  {
   "cell_type": "markdown",
   "id": "fc0d2671-9888-460a-bcbc-191f8550d49a",
   "metadata": {},
   "source": [
    "## Format d'une instance\n",
    "\n",
    "Pour créer une instance il faut définir : \n",
    "\n",
    "- un horizon de temps *horizon* : entier naturel dans [1,limite_horizon]\n",
    "- un nombre de qualifications *nb_qualifs* : entier naturel dans [1,limite_qualifs]\n",
    "- une population de personnel : \n",
    "    - un nombre d'employé *nb_staff* : entier naturel dans [1,limite_staff]\n",
    "    \n",
    "    \n",
    "    Puis pour chaque employé : \n",
    "    - un nom unique *name* : entier naturel représentant l'ID de l'employé, de [1,nb_staff]\n",
    "    - un ensemble de qualification non vide *qualifications* : sous-liste de la liste des qualifications construite en amont\n",
    "    - un ensemble de jours de vacances *vacations* : un sous ensemble de [0,horizon]\n",
    "- une population de projet : \n",
    "    - un nombre de projet *nb_jobs* : entier naturel dans [1,limite_jobs]\n",
    "    \n",
    "    \n",
    "    Puis pour chaque projet :\n",
    "    - un nom unique *name* : entier naturel représentant l'ID du projet, de [1,nb_jobs]\n",
    "    - un ensemble de compétences concernées, avec un nombre de jours à travailler par compétence *working_days_per_qualifications* : dictionnaire (compétence, jours), avec jours dans [1,limite_jour_comp_job]\n",
    "    - une deadline *due_date* : entier naturel dans [1,horizon]\n",
    "    - un gain *gain* : entier naturel dans [1,10\\*horizon]\n",
    "    - une pénalité de retard journalière *daily_penalty* : entier naturel de [0,gain]"
   ]
  },
  {
   "cell_type": "code",
   "execution_count": 73,
   "id": "6a359d1f-eac7-4ac7-8a66-11479a388f8e",
   "metadata": {},
   "outputs": [],
   "source": [
    "# Bibliothèques\n",
    "\n",
    "import json\n",
    "import random as rd\n",
    "from os.path import join, exists\n"
   ]
  },
  {
   "cell_type": "code",
   "execution_count": 74,
   "id": "d346a893-6b65-4665-9bc0-3c1031b01541",
   "metadata": {},
   "outputs": [],
   "source": [
    "class DummyRandomSchedulingDataset: \n",
    "    \"\"\"Instances du jeu de données créées uniquement à partir des spécifications d'une instance valide.\n",
    "    \n",
    "    Il n'y a rien qui est fait pour piéger l'optimizer Gurobi pour le moment.\n",
    "    \"\"\"\n",
    "    \n",
    "    # Constantes de définition\n",
    "    LIMITE_HORIZON = 100\n",
    "    # On définit les autres limites par rapport à horizon plutôt qu'à LIMITE_HORIZON pour avoir des instances cohérentes\n",
    "    # TODO: Hypothèse à discuter\n",
    "    # LIMITE_QUALIFS = limite_horizon\n",
    "    # LIMITE_STAFF = limite_horizon\n",
    "    # LIMITE_JOBS = 2*limite_horizon\n",
    "    # LIMITE_GAIN = 10*limite_horizon\n",
    "    \n",
    "    DEFAULT_FOLDER_PATH = '.\\\\instances\\\\instances_created'\n",
    "        \n",
    "    def __init__(self, limite_horizon=LIMITE_HORIZON):\n",
    "        \n",
    "        # Initialisation des paramètres aléatoires\n",
    "        self.horizon = rd.randrange(2, limite_horizon + 1) # Les jours planifiés seront indexés dans [0,horizon-1]\n",
    "        self.nb_staff = rd.randrange(2, self.horizon + 1)\n",
    "        self.nb_qualifs = rd.randrange(2, self.nb_staff + 1)\n",
    "        self.nb_jobs = rd.randrange(self.nb_staff, 2 * self.horizon + 1)\n",
    "        self.gain_max = 10 * self.horizon\n",
    "        self.max_vacations = max(1, self.horizon // 10)\n",
    "        self.max_jour_consultant = self.horizon * self.nb_staff # Le nombre total de jour/consultant sur l'ensemble de l'horizon\n",
    "        \n",
    "        # On définit un nombre de jour/consultants acceptable pour un projet qui a un gain de gain_max\n",
    "        # On veut que si on multiplie cette constante par nb_jobs on trouve un résultat environ 3-5 fois supérieur à max_jour_consultant\n",
    "        # On choisira donc complètement arbitrairement 4\n",
    "        # Me semble pertinent car si on calcule la somme des jours/consultants de chaque projet, on devrait trouver un résultat environ 2 fois supérieur à max_jour_consultants\n",
    "        self.travail_pour_gain_max = 4 * self.max_jour_consultant / self.nb_jobs\n",
    "        \n",
    "        # Définition de la liste de classification\n",
    "        self.qualifications = [str(qualif) for qualif in range(1, self.nb_qualifs + 1)]\n",
    "        \n",
    "        # Définition du personnel\n",
    "        self.staff = []\n",
    "        for staff_index in range(self.nb_staff + 1):\n",
    "            nb_qualifs_employee = rd.randrange(1, self.nb_qualifs + 1)\n",
    "            nb_vacations_employee = rd.randrange(self.max_vacations)\n",
    "            employee = {\n",
    "                'name': f'Consultant{staff_index + 1}',\n",
    "                'qualifications': rd.sample(self.qualifications, nb_qualifs_employee),\n",
    "                'vacations': rd.sample(range(self.horizon), nb_vacations_employee)\n",
    "            }\n",
    "            self.staff.append(employee)\n",
    "        \n",
    "        # FIXME: faire en sorte que chaque qualification possible soit au moins réalisée par 1 membre du personnel\n",
    "        \n",
    "        # Définition des projets\n",
    "        self.jobs = []\n",
    "        for job_index in range(self.nb_jobs + 1):\n",
    "            gain = rd.randrange(1, self.gain_max + 1)\n",
    "            \n",
    "            # Calculer le nb de jours totals à travailler sur le projet, le rendre fonction du ratio gain / gain_max\n",
    "            gain_ratio = gain / self.gain_max\n",
    "            mean_jour_consultant = gain_ratio * self.travail_pour_gain_max # on veut prendre une fourchette autour de ça plutôt que le chiffre exact\n",
    "            noise_coef = 0.3 # On choisit de prendre une fourchette de 30% autour de la moyenne\n",
    "            working_days = rd.randrange(max(1, round((1 - noise_coef) * mean_jour_consultant)), max(2, round((1 + noise_coef) * mean_jour_consultant) + 1))\n",
    "            \n",
    "            # Une fois qu'on a le chiffre, on choisit aléatoirement un sous-ensemble de compétences à remplir\n",
    "            job_nb_qualifs = rd.randrange(1, min(working_days, len(self.qualifications)) + 1)\n",
    "            job_qualifs = rd.sample(self.qualifications, job_nb_qualifs)\n",
    "            \n",
    "            # Puis on réparti aléatoirement les jours de travail entre les compétences choisies, en faisant en sorte que chacune ait au moins un jour travaillé\n",
    "            # D'abord on affecte un point à chaque qualif et on soustrait le nombre de points à affecter correspondant\n",
    "            working_days_per_qualification = {qualif:1 for qualif in job_qualifs}\n",
    "            remaining_wd = working_days - job_nb_qualifs\n",
    "            while remaining_wd > 0:\n",
    "                qualif = rd.choice(job_qualifs)\n",
    "                working_days_per_qualification[qualif] += 1\n",
    "                remaining_wd -= 1\n",
    "            \n",
    "            job = {\n",
    "                'name': f'Job{job_index + 1}',\n",
    "                'gain': gain,\n",
    "                'due_date': rd.randrange(self.horizon),\n",
    "                'daily_penalty': rd.randrange(gain + 1),\n",
    "                'working_days_per_qualification': working_days_per_qualification\n",
    "            }\n",
    "            \n",
    "            self.jobs.append(job)\n",
    "        \n",
    "    def to_json(self, filename, instance_folder_path=DEFAULT_FOLDER_PATH):\n",
    "        \"\"\"Create the dict with correct format from instance object and transform it to json. \n",
    "        \n",
    "        Result file is stored under the given filename at the given path.\n",
    "        \"\"\"\n",
    "        instance_dict = {\n",
    "            'horizon': self.horizon, \n",
    "            'qualifications': self.qualifications,\n",
    "            'staff': self.staff, \n",
    "            'jobs': self.jobs\n",
    "        }\n",
    "        if filename[-5:] != '.json':\n",
    "            filename += '.json'\n",
    "        path = join(instance_folder_path, filename)\n",
    "        if exists(path):\n",
    "            print('\\nYour file failed to save because this path already exists.\\n')\n",
    "            return None\n",
    "        with open(path, 'a') as result_file:\n",
    "            json.dump(instance_dict, result_file)\n",
    "            \n"
   ]
  },
  {
   "cell_type": "code",
   "execution_count": 75,
   "id": "df2972e3-4985-4145-b747-e9d086e7a711",
   "metadata": {},
   "outputs": [],
   "source": [
    "dummy_test = DummyRandomSchedulingDataset()"
   ]
  },
  {
   "cell_type": "code",
   "execution_count": 76,
   "id": "49e30bb4-5d04-448f-addf-af5951a40dbb",
   "metadata": {},
   "outputs": [],
   "source": [
    "#dummy_test.horizon"
   ]
  },
  {
   "cell_type": "code",
   "execution_count": 77,
   "id": "1f1c7f51-fd16-4f8c-bfc9-2df81f062ef9",
   "metadata": {},
   "outputs": [],
   "source": [
    "#dummy_test.qualifications"
   ]
  },
  {
   "cell_type": "code",
   "execution_count": 78,
   "id": "b338a824-5027-4f26-b0f4-785473b2edcd",
   "metadata": {},
   "outputs": [],
   "source": [
    "#dummy_test.staff"
   ]
  },
  {
   "cell_type": "code",
   "execution_count": 79,
   "id": "81534f55-a505-4932-bc8a-02cf8acb1310",
   "metadata": {},
   "outputs": [],
   "source": [
    "#dummy_test.jobs"
   ]
  },
  {
   "cell_type": "code",
   "execution_count": 80,
   "id": "29451c96-64c0-4215-b166-e1ef02e7af1e",
   "metadata": {},
   "outputs": [],
   "source": [
    "dummy_test.to_json('dummy_test')"
   ]
  },
  {
   "cell_type": "code",
   "execution_count": null,
   "id": "979c1b42-47a8-461d-915e-13835a4cb612",
   "metadata": {},
   "outputs": [],
   "source": []
  }
 ],
 "metadata": {
  "kernelspec": {
   "display_name": "Python 3 (ipykernel)",
   "language": "python",
   "name": "python3"
  },
  "language_info": {
   "codemirror_mode": {
    "name": "ipython",
    "version": 3
   },
   "file_extension": ".py",
   "mimetype": "text/x-python",
   "name": "python",
   "nbconvert_exporter": "python",
   "pygments_lexer": "ipython3",
   "version": "3.10.7"
  }
 },
 "nbformat": 4,
 "nbformat_minor": 5
}

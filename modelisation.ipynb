{
 "cells": [
  {
   "cell_type": "code",
   "execution_count": 1,
   "id": "f23e2926",
   "metadata": {},
   "outputs": [],
   "source": [
    "from gurobipy import *"
   ]
  },
  {
   "cell_type": "code",
   "execution_count": 2,
   "id": "9799d870",
   "metadata": {},
   "outputs": [],
   "source": [
    "import json\n",
    "with open('toy_instance.json') as f:\n",
    "    json_instance = json.load(f)\n",
    "    f.close()"
   ]
  },
  {
   "cell_type": "code",
   "execution_count": 3,
   "id": "f27565ca",
   "metadata": {},
   "outputs": [
    {
     "data": {
      "text/plain": [
       "{'horizon': 5,\n",
       " 'qualifications': ['A', 'B', 'C'],\n",
       " 'staff': [{'name': 'Olivia',\n",
       "   'qualifications': ['A', 'B', 'C'],\n",
       "   'vacations': []},\n",
       "  {'name': 'Liam', 'qualifications': ['A', 'B'], 'vacations': [1]},\n",
       "  {'name': 'Emma', 'qualifications': ['C'], 'vacations': [2]}],\n",
       " 'jobs': [{'name': 'Job1',\n",
       "   'gain': 20,\n",
       "   'due_date': 3,\n",
       "   'daily_penalty': 3,\n",
       "   'working_days_per_qualification': {'A': 1, 'B': 1, 'C': 1}},\n",
       "  {'name': 'Job2',\n",
       "   'gain': 15,\n",
       "   'due_date': 3,\n",
       "   'daily_penalty': 3,\n",
       "   'working_days_per_qualification': {'A': 1, 'B': 2}},\n",
       "  {'name': 'Job3',\n",
       "   'gain': 15,\n",
       "   'due_date': 4,\n",
       "   'daily_penalty': 3,\n",
       "   'working_days_per_qualification': {'A': 1, 'C': 2}},\n",
       "  {'name': 'Job4',\n",
       "   'gain': 20,\n",
       "   'due_date': 3,\n",
       "   'daily_penalty': 3,\n",
       "   'working_days_per_qualification': {'B': 2, 'C': 1}},\n",
       "  {'name': 'Job5',\n",
       "   'gain': 10,\n",
       "   'due_date': 5,\n",
       "   'daily_penalty': 3,\n",
       "   'working_days_per_qualification': {'C': 2}}]}"
      ]
     },
     "execution_count": 3,
     "metadata": {},
     "output_type": "execute_result"
    }
   ],
   "source": [
    "json_instance"
   ]
  },
  {
   "cell_type": "code",
   "execution_count": 4,
   "id": "9b683b2d",
   "metadata": {},
   "outputs": [],
   "source": [
    "N = len(json_instance['staff'])\n",
    "M = len(json_instance['jobs'])\n",
    "K = len(json_instance['qualifications'])\n",
    "T = int(json_instance['horizon'])"
   ]
  },
  {
   "cell_type": "code",
   "execution_count": 5,
   "id": "e346f071",
   "metadata": {},
   "outputs": [
    {
     "data": {
      "text/plain": [
       "{0: 'Olivia', 1: 'Liam', 2: 'Emma'}"
      ]
     },
     "execution_count": 5,
     "metadata": {},
     "output_type": "execute_result"
    }
   ],
   "source": [
    "mapping_names = {}\n",
    "for i in range(len(json_instance['staff'])):\n",
    "    mapping_names[i] = json_instance['staff'][i]['name']\n",
    "mapping_names"
   ]
  },
  {
   "cell_type": "code",
   "execution_count": 6,
   "id": "0618ef5d",
   "metadata": {},
   "outputs": [
    {
     "data": {
      "text/plain": [
       "{'A': 0, 'B': 1, 'C': 2}"
      ]
     },
     "execution_count": 6,
     "metadata": {},
     "output_type": "execute_result"
    }
   ],
   "source": [
    "mapping_qualif = {v:k for (k,v) in enumerate(json_instance['qualifications'])}\n",
    "mapping_qualif"
   ]
  },
  {
   "cell_type": "code",
   "execution_count": 7,
   "id": "a9d6b8e7",
   "metadata": {},
   "outputs": [
    {
     "data": {
      "text/plain": [
       "array([[1., 1., 1.],\n",
       "       [1., 1., 0.],\n",
       "       [0., 0., 1.]])"
      ]
     },
     "execution_count": 7,
     "metadata": {},
     "output_type": "execute_result"
    }
   ],
   "source": [
    "import numpy as np\n",
    "qualifications_mat = np.zeros((N,K))\n",
    "for i in range(N):\n",
    "    for qual_k in json_instance['staff'][i]['qualifications']:\n",
    "        qualifications_mat[i,mapping_qualif[qual_k]]=1\n",
    "qualifications_mat\n"
   ]
  },
  {
   "cell_type": "code",
   "execution_count": 8,
   "id": "0e6c2711",
   "metadata": {},
   "outputs": [
    {
     "data": {
      "text/plain": [
       "array([[1., 1., 1., 1., 1.],\n",
       "       [0., 1., 1., 1., 1.],\n",
       "       [1., 0., 1., 1., 1.]])"
      ]
     },
     "execution_count": 8,
     "metadata": {},
     "output_type": "execute_result"
    }
   ],
   "source": [
    "vacation_mat = np.ones((N,T))\n",
    "for i in range(N):\n",
    "    for t in json_instance['staff'][i]['vacations']:\n",
    "        vacation_mat[i,t-1]=0\n",
    "vacation_mat"
   ]
  },
  {
   "cell_type": "code",
   "execution_count": 9,
   "id": "a30f98b0",
   "metadata": {},
   "outputs": [
    {
     "data": {
      "text/plain": [
       "array([[1., 1., 1.],\n",
       "       [1., 2., 0.],\n",
       "       [1., 0., 2.],\n",
       "       [0., 2., 1.],\n",
       "       [0., 0., 2.]])"
      ]
     },
     "execution_count": 9,
     "metadata": {},
     "output_type": "execute_result"
    }
   ],
   "source": [
    "wd_per_qual_mat = np.zeros((M,K))\n",
    "for j in range(M):\n",
    "    for qual,wd in json_instance['jobs'][j]['working_days_per_qualification'].items():\n",
    "        wd_per_qual_mat[j,mapping_qualif[qual]] = wd\n",
    "wd_per_qual_mat\n"
   ]
  },
  {
   "cell_type": "code",
   "execution_count": 10,
   "id": "be902e37",
   "metadata": {},
   "outputs": [
    {
     "data": {
      "text/plain": [
       "array([20., 15., 15., 20., 10.])"
      ]
     },
     "execution_count": 10,
     "metadata": {},
     "output_type": "execute_result"
    }
   ],
   "source": [
    "gains_vect = np.zeros((M,))\n",
    "for j in range(M):\n",
    "    gains_vect[j] = json_instance['jobs'][j]['gain']\n",
    "gains_vect"
   ]
  },
  {
   "cell_type": "code",
   "execution_count": 11,
   "id": "6c416faf",
   "metadata": {},
   "outputs": [
    {
     "data": {
      "text/plain": [
       "array([3., 3., 3., 3., 3.])"
      ]
     },
     "execution_count": 11,
     "metadata": {},
     "output_type": "execute_result"
    }
   ],
   "source": [
    "penalties_vect = np.zeros((M,))\n",
    "for j in range(M):\n",
    "    penalties_vect[j] = json_instance['jobs'][j]['daily_penalty']\n",
    "penalties_vect"
   ]
  },
  {
   "cell_type": "code",
   "execution_count": 12,
   "id": "53383f15",
   "metadata": {},
   "outputs": [
    {
     "data": {
      "text/plain": [
       "array([[0., 0., 1., 1., 1.],\n",
       "       [0., 0., 1., 1., 1.],\n",
       "       [0., 0., 0., 1., 1.],\n",
       "       [0., 0., 1., 1., 1.],\n",
       "       [0., 0., 0., 0., 1.]])"
      ]
     },
     "execution_count": 12,
     "metadata": {},
     "output_type": "execute_result"
    }
   ],
   "source": [
    "due_dates_mat = np.zeros((M,T))\n",
    "for j in range(M):\n",
    "    for t in range(json_instance['jobs'][j]['due_date']-1,T):\n",
    "        due_dates_mat[j,t] = 1\n",
    "due_dates_mat"
   ]
  },
  {
   "cell_type": "code",
   "execution_count": 13,
   "id": "2208d961",
   "metadata": {},
   "outputs": [],
   "source": [
    "def print_plannings(N,M,K,T,mapping_names,vacation_mat,qualifications,x):\n",
    "    for i in range(N):\n",
    "        print('planning de {} : '.format(mapping_names[i]))\n",
    "        for t in range(T):\n",
    "            print('jour {} : '.format(t+1),end=' ')\n",
    "            if vacation_mat[i,t]==0:\n",
    "                        print('jour de congé')\n",
    "            for j in range(M):\n",
    "                for k in range(K):\n",
    "                    if x[i,j,k,t].X == 1 :\n",
    "                        print('projet {}, compétence {}'.format(j+1,qualifications[k]))"
   ]
  },
  {
   "cell_type": "code",
   "execution_count": 14,
   "id": "dc72fe99",
   "metadata": {},
   "outputs": [
    {
     "name": "stdout",
     "output_type": "stream",
     "text": [
      "Set parameter Username\n",
      "Academic license - for non-commercial use only - expires 2023-12-11\n",
      "None\n",
      "La valeur optimale de l'objectif 1 est -65\n",
      "Les valeurs des objectifs 1 et 2 sont alors 5 et 5\n",
      "planning de Olivia : \n",
      "jour 1 :  projet 1, compétence A\n",
      "jour 2 :  projet 2, compétence B\n",
      "jour 3 :  projet 4, compétence B\n",
      "jour 4 :  projet 3, compétence C\n",
      "jour 5 :  projet 5, compétence C\n",
      "planning de Liam : \n",
      "jour 1 :  jour de congé\n",
      "jour 2 :  projet 1, compétence B\n",
      "jour 3 :  projet 4, compétence B\n",
      "jour 4 :  projet 3, compétence A\n",
      "jour 5 :  projet 2, compétence B\n",
      "planning de Emma : \n",
      "jour 1 :  projet 4, compétence C\n",
      "jour 2 :  jour de congé\n",
      "jour 3 :  projet 1, compétence C\n",
      "jour 4 :  projet 3, compétence C\n",
      "jour 5 :  projet 5, compétence C\n"
     ]
    }
   ],
   "source": [
    "# Instanciation du modèle\n",
    "m = Model(\"PL modelling CompuOpti\")\n",
    "\n",
    "# Vecteur de variables\n",
    "x = m.addVars(N,M,K,T,name=\"x\", vtype=GRB.BINARY)\n",
    "r = m.addVars(M,T, name=\"r\", vtype=GRB.BINARY)\n",
    "s = m.addVars(N,M, name=\"s\", vtype=GRB.BINARY)\n",
    "b = m.addVars(M,T, name=\"b\", vtype=GRB.BINARY)\n",
    "y = m.addVar(name=\"y\",vtype=GRB.INTEGER)\n",
    "z = m.addVar(name=\"z\",vtype=GRB.INTEGER)\n",
    "\n",
    "m.update()\n",
    "\n",
    "m.addConstrs((x[i,j,k,t] <= qualifications_mat[i,k] for i in range(N) for j in range(M) for k in range(K) for t in range(T)), name = \"qualification du personnel\")\n",
    "m.addConstrs((quicksum([x[i,j,k,t] for j in range(M) for k in range(K)]) <= 1 for i in range(N) for t in range(T)),name=\"unicité de l'affectation quotidienne du personnel\")\n",
    "m.addConstrs((x[i,j,k,t] <= vacation_mat[i,t] for i in range(N) for j in range(M) for k in range(K) for t in range(T)), name = \"congés\")\n",
    "m.addConstrs(( quicksum([x[i,j,k,tau] for i in range(N) for tau in range(t+1)]) >= r[j,t] * wd_per_qual_mat[j,k] for j in range(M) for k in range(K) for t in range(T)),name=\"couverture des qualifications\")\n",
    "m.addConstrs(( quicksum([x[i,j,k,tau] for i in range(N) for tau in range(t+1)]) <= wd_per_qual_mat[j,k] for j in range(M) for k in range(K) for t in range(T)),name=\"unicité de la réalisation d'un projet\")\n",
    "m.addConstrs((K*T*s[i,j] >= quicksum([x[i,j,k,t] for k in range(K) for t in range(T)]) for i in range(N) for j in range(M) ), name = \"affectation à un projet ssi affection à une compétence de ce projet au moins un jour\")\n",
    "m.addConstrs((N*K*b[j,t] >= quicksum([x[i,j,k,t] for i in range(N) for k in range(K)]) for j in range(M) for t in range(T)), name = \"contrainte interne sur le début des projets\")\n",
    "m.addConstrs((b[j,t] >= r[j,t] for j in range(M) for t in range(T)),name=\"début d'un projet avant sa fin\")\n",
    "m.addConstrs((y >= quicksum([s[i,j] for j in range(M)]) for i in range(N)),name=\"linéarisation de l'objectif 2\")\n",
    "m.addConstrs((z >= quicksum([b[j,t] - r[j,t] for t in range(T)]) for j in range(M)), name = \"linéarisation de l'objectif 3\")\n",
    "m.addConstrs((r[j,t+1] >= r[j,t] for j in range(M) for t in range(T-1)),name=\"contrainte interne à la variable r\")\n",
    "m.addConstrs((b[j,t+1] >= b[j,t] for j in range(M) for t in range(T-1)),name=\"contrainte interne à la variable b\")\n",
    "\n",
    "obj1 = -quicksum([r[j,T-1]*(gains_vect[j]-quicksum([penalties_vect[j]*(1-r[j,t])*due_dates_mat[j,t] for t in range(T)])) for j in range(M)])\n",
    "obj2 = y\n",
    "obj3 = z\n",
    "m.setObjective(obj1, GRB.MINIMIZE)\n",
    "\n",
    "# Paramétrage (mode mute)\n",
    "m.params.outputflag = 0\n",
    "\n",
    "# Résolution du PL\n",
    "m.optimize()\n",
    "\n",
    "# Affichage en mode texte du PL\n",
    "print(m.display())\n",
    "\n",
    "print(\"La valeur optimale de l'objectif 1 est {}\".format(int(m.objVal)))\n",
    "print(\"Les valeurs des objectifs 1 et 2 sont alors {} et {}\".format(int(obj2.x),int(obj3.x)))\n",
    "obj1_opti = int(m.objVal)\n",
    "\n",
    "print_plannings(N,M,K,T,mapping_names,vacation_mat,json_instance['qualifications'],x)\n",
    "                "
   ]
  },
  {
   "cell_type": "code",
   "execution_count": 15,
   "id": "d2e3ab71",
   "metadata": {},
   "outputs": [
    {
     "name": "stdout",
     "output_type": "stream",
     "text": [
      "None\n",
      "La valeur optimale de l'objectif 2 est 0\n",
      "Les valeurs des objectifs 1 et 3 sont alors 0 et 0\n",
      "planning de Olivia : \n",
      "jour 1 :  jour 2 :  jour 3 :  jour 4 :  jour 5 :  planning de Liam : \n",
      "jour 1 :  jour de congé\n",
      "jour 2 :  jour 3 :  jour 4 :  jour 5 :  planning de Emma : \n",
      "jour 1 :  jour 2 :  jour de congé\n",
      "jour 3 :  jour 4 :  jour 5 :  "
     ]
    }
   ],
   "source": [
    "# Instanciation du modèle\n",
    "m2 = Model(\"PL modelling CompuOpti\")\n",
    "\n",
    "# Vecteur de variables\n",
    "x = m2.addVars(N,M,K,T,name=\"x\", vtype=GRB.BINARY)\n",
    "r = m2.addVars(M,T, name=\"r\", vtype=GRB.BINARY)\n",
    "s = m2.addVars(N,M, name=\"s\", vtype=GRB.BINARY)\n",
    "b = m2.addVars(M,T, name=\"b\", vtype=GRB.BINARY)\n",
    "y = m2.addVar(name=\"y\",vtype=GRB.INTEGER)\n",
    "z = m2.addVar(name=\"z\",vtype=GRB.INTEGER)\n",
    "\n",
    "m2.update()\n",
    "\n",
    "m2.addConstrs((x[i,j,k,t] <= qualifications_mat[i,k] for i in range(N) for j in range(M) for k in range(K) for t in range(T)), name = \"qualification du personnel\")\n",
    "m2.addConstrs((quicksum([x[i,j,k,t] for j in range(M) for k in range(K)]) <= 1 for i in range(N) for t in range(T)),name=\"unicité de l'affectation quotidienne du personnel\")\n",
    "m2.addConstrs((x[i,j,k,t] <= vacation_mat[i,t] for i in range(N) for j in range(M) for k in range(K) for t in range(T)), name = \"congés\")\n",
    "m2.addConstrs(( quicksum([x[i,j,k,tau] for i in range(N) for tau in range(t+1)]) >= r[j,t] * wd_per_qual_mat[j,k] for j in range(M) for k in range(K) for t in range(T)),name=\"couverture des qualifications\")\n",
    "m2.addConstrs(( quicksum([x[i,j,k,tau] for i in range(N) for tau in range(t+1)]) <= wd_per_qual_mat[j,k] for j in range(M) for k in range(K) for t in range(T)),name=\"unicité de la réalisation d'un projet\")\n",
    "m2.addConstrs((K*T*s[i,j] >= quicksum([x[i,j,k,t] for k in range(K) for t in range(T)]) for i in range(N) for j in range(M) ), name = \"affectation à un projet ssi affection à une compétence de ce projet au moins un jour\")\n",
    "m2.addConstrs((N*K*b[j,t] >= quicksum([x[i,j,k,t] for i in range(N) for k in range(K)]) for j in range(M) for t in range(T)), name = \"contrainte interne sur le début des projets\")\n",
    "m2.addConstrs((b[j,t] >= r[j,t] for j in range(M) for t in range(T)),name=\"début d'un projet avant sa fin\")\n",
    "m2.addConstrs((y >= quicksum([s[i,j] for j in range(M)]) for i in range(N)),name=\"linéarisation de l'objectif 2\")\n",
    "m2.addConstrs((z >= quicksum([b[j,t] - r[j,t] for t in range(T)]) for j in range(M)), name = \"linéarisation de l'objectif 3\")\n",
    "m2.addConstrs((r[j,t+1] >= r[j,t] for j in range(M) for t in range(T-1)),name=\"contrainte interne à la variable r\")\n",
    "m2.addConstrs((b[j,t+1] >= b[j,t] for j in range(M) for t in range(T-1)),name=\"contrainte interne à la variable b\")\n",
    "\n",
    "obj1 = - quicksum([r[j,T-1]*(gains_vect[j]-quicksum([penalties_vect[j]*(1-r[j,t])*due_dates_mat[j,t] for t in range(T)])) for j in range(M)])\n",
    "obj2 = y\n",
    "obj3 = z\n",
    "m2.setObjective(obj2, GRB.MINIMIZE)\n",
    "\n",
    "# Paramétrage (mode mute)\n",
    "m2.params.outputflag = 0\n",
    "\n",
    "# Résolution du PL\n",
    "m2.optimize()\n",
    "\n",
    "# Affichage en mode texte du PL\n",
    "print(m2.display())\n",
    "\n",
    "print(\"La valeur optimale de l'objectif 2 est {}\".format(int(m2.objVal)))\n",
    "print(\"Les valeurs des objectifs 1 et 3 sont alors {} et {}\".format(int(obj1.getValue()),int(obj3.x)))\n",
    "obj2_opti = int(m2.objVal)\n",
    "\n",
    "print_plannings(N,M,K,T,mapping_names,vacation_mat,json_instance['qualifications'],x)\n"
   ]
  },
  {
   "cell_type": "code",
   "execution_count": 16,
   "id": "e11d6dac",
   "metadata": {},
   "outputs": [
    {
     "name": "stdout",
     "output_type": "stream",
     "text": [
      "None\n",
      "La valeur optimale de l'objectif 3 est 0\n",
      "Les valeurs des objectifs 1 et 2 sont alors -59 et 5\n",
      "planning de Olivia : \n",
      "jour 1 :  projet 5, compétence C\n",
      "jour 2 :  jour 3 :  projet 4, compétence B\n",
      "jour 4 :  projet 3, compétence C\n",
      "jour 5 :  projet 1, compétence A\n",
      "planning de Liam : \n",
      "jour 1 :  jour de congé\n",
      "jour 2 :  jour 3 :  projet 4, compétence B\n",
      "jour 4 :  projet 3, compétence A\n",
      "jour 5 :  projet 1, compétence B\n",
      "planning de Emma : \n",
      "jour 1 :  projet 5, compétence C\n",
      "jour 2 :  jour de congé\n",
      "jour 3 :  projet 4, compétence C\n",
      "jour 4 :  projet 3, compétence C\n",
      "jour 5 :  projet 1, compétence C\n"
     ]
    }
   ],
   "source": [
    "# Instanciation du modèle\n",
    "m3 = Model(\"PL modelling CompuOpti\")\n",
    "\n",
    "# Vecteur de variables\n",
    "x = m3.addVars(N,M,K,T,name=\"x\", vtype=GRB.BINARY)\n",
    "r = m3.addVars(M,T, name=\"r\", vtype=GRB.BINARY)\n",
    "s = m3.addVars(N,M, name=\"s\", vtype=GRB.BINARY)\n",
    "b = m3.addVars(M,T, name=\"b\", vtype=GRB.BINARY)\n",
    "y = m3.addVar(name=\"y\",vtype=GRB.INTEGER)\n",
    "z = m3.addVar(name=\"z\",vtype=GRB.INTEGER)\n",
    "\n",
    "m3.update()\n",
    "\n",
    "m3.addConstrs((x[i,j,k,t] <= qualifications_mat[i,k] for i in range(N) for j in range(M) for k in range(K) for t in range(T)), name = \"qualification du personnel\")\n",
    "m3.addConstrs((quicksum([x[i,j,k,t] for j in range(M) for k in range(K)]) <= 1 for i in range(N) for t in range(T)),name=\"unicité de l'affectation quotidienne du personnel\")\n",
    "m3.addConstrs((x[i,j,k,t] <= vacation_mat[i,t] for i in range(N) for j in range(M) for k in range(K) for t in range(T)), name = \"congés\")\n",
    "m3.addConstrs(( quicksum([x[i,j,k,tau] for i in range(N) for tau in range(t+1)]) >= r[j,t] * wd_per_qual_mat[j,k] for j in range(M) for k in range(K) for t in range(T)),name=\"couverture des qualifications\")\n",
    "m3.addConstrs(( quicksum([x[i,j,k,tau] for i in range(N) for tau in range(t+1)]) <= wd_per_qual_mat[j,k] for j in range(M) for k in range(K) for t in range(T)),name=\"unicité de la réalisation d'un projet\")\n",
    "m3.addConstrs((K*T*s[i,j] >= quicksum([x[i,j,k,t] for k in range(K) for t in range(T)]) for i in range(N) for j in range(M) ), name = \"affectation à un projet ssi affection à une compétence de ce projet au moins un jour\")\n",
    "m3.addConstrs((N*K*b[j,t] >= quicksum([x[i,j,k,t] for i in range(N) for k in range(K)]) for j in range(M) for t in range(T)), name = \"contrainte interne sur le début des projets\")\n",
    "m3.addConstrs((b[j,t] >= r[j,t] for j in range(M) for t in range(T)),name=\"début d'un projet avant sa fin\")\n",
    "m3.addConstrs((y >= quicksum([s[i,j] for j in range(M)]) for i in range(N)),name=\"linéarisation de l'objectif 2\")\n",
    "m3.addConstrs((z >= quicksum([b[j,t] - r[j,t] for t in range(T)]) for j in range(M)), name = \"linéarisation de l'objectif 3\")\n",
    "m3.addConstrs((r[j,t+1] >= r[j,t] for j in range(M) for t in range(T-1)),name=\"contrainte interne à la variable r\")\n",
    "m3.addConstrs((b[j,t+1] >= b[j,t] for j in range(M) for t in range(T-1)),name=\"contrainte interne à la variable b\")\n",
    "\n",
    "obj1 = - quicksum([r[j,T-1]*(gains_vect[j]-quicksum([penalties_vect[j]*(1-r[j,t])*due_dates_mat[j,t] for t in range(T)])) for j in range(M)])\n",
    "obj2 = y\n",
    "obj3 = z\n",
    "\n",
    "m3.addConstr(obj1 <= -59)\n",
    "m3.setObjective(obj3,GRB.MINIMIZE)\n",
    "\n",
    "# Paramétrage (mode mute)\n",
    "m3.params.outputflag = 0\n",
    "\n",
    "# Résolution du PL\n",
    "m3.optimize()\n",
    "\n",
    "# Affichage en mode texte du PL\n",
    "print(m3.display())\n",
    "\n",
    "print(\"La valeur optimale de l'objectif 3 est {}\".format(int(m3.objVal)))\n",
    "print(\"Les valeurs des objectifs 1 et 2 sont alors {} et {}\".format(int(obj1.getValue()),int(obj2.x)))\n",
    "obj3_opti = int(m3.objVal)\n",
    "\n",
    "print_plannings(N,M,K,T,mapping_names,vacation_mat,json_instance['qualifications'],x)"
   ]
  },
  {
   "cell_type": "code",
   "execution_count": 17,
   "id": "f9a6e429",
   "metadata": {},
   "outputs": [
    {
     "data": {
      "text/plain": [
       "(-65, 0, 0)"
      ]
     },
     "execution_count": 17,
     "metadata": {},
     "output_type": "execute_result"
    }
   ],
   "source": [
    "optimal_sol = obj1_opti, obj2_opti, obj3_opti\n",
    "optimal_sol"
   ]
  },
  {
   "cell_type": "code",
   "execution_count": 18,
   "id": "dae3b669",
   "metadata": {},
   "outputs": [
    {
     "data": {
      "text/plain": [
       "(0, 5, 5)"
      ]
     },
     "execution_count": 18,
     "metadata": {},
     "output_type": "execute_result"
    }
   ],
   "source": [
    "nadir_sol = (0,M,T)\n",
    "nadir_sol"
   ]
  },
  {
   "cell_type": "code",
   "execution_count": 65,
   "id": "ddea8858",
   "metadata": {},
   "outputs": [],
   "source": [
    "def solve_epsilon_constraint_prog(epsilon,verbose=False):\n",
    "    # Instanciation du modèle\n",
    "    m = Model(\"PL espilon constraint\")\n",
    "\n",
    "    # Vecteur de variables\n",
    "    x = m.addVars(N,M,K,T,name=\"x\", vtype=GRB.BINARY)\n",
    "    r = m.addVars(M,T, name=\"r\", vtype=GRB.BINARY)\n",
    "    s = m.addVars(N,M, name=\"s\", vtype=GRB.BINARY)\n",
    "    b = m.addVars(M,T, name=\"b\", vtype=GRB.BINARY)\n",
    "    y = m.addVar(name=\"y\",vtype=GRB.INTEGER)\n",
    "    z = m.addVar(name=\"z\",vtype=GRB.INTEGER)\n",
    "\n",
    "    m.update()\n",
    "\n",
    "    m.addConstrs((x[i,j,k,t] <= qualifications_mat[i,k] for i in range(N) for j in range(M) for k in range(K) for t in range(T)), name = \"qualification du personnel\")\n",
    "    m.addConstrs((quicksum([x[i,j,k,t] for j in range(M) for k in range(K)]) <= 1 for i in range(N) for t in range(T)),name=\"unicité de l'affectation quotidienne du personnel\")\n",
    "    m.addConstrs((x[i,j,k,t] <= vacation_mat[i,t] for i in range(N) for j in range(M) for k in range(K) for t in range(T)), name = \"congés\")\n",
    "    m.addConstrs(( quicksum([x[i,j,k,tau] for i in range(N) for tau in range(t+1)]) >= r[j,t] * wd_per_qual_mat[j,k] for j in range(M) for k in range(K) for t in range(T)),name=\"couverture des qualifications\")\n",
    "    m.addConstrs(( quicksum([x[i,j,k,tau] for i in range(N) for tau in range(t+1)]) <= wd_per_qual_mat[j,k] for j in range(M) for k in range(K) for t in range(T)),name=\"unicité de la réalisation d'un projet\")\n",
    "    m.addConstrs((K*T*s[i,j] >= quicksum([x[i,j,k,t] for k in range(K) for t in range(T)]) for i in range(N) for j in range(M) ), name = \"affectation à un projet ssi affection à une compétence de ce projet au moins un jour\")\n",
    "    m.addConstrs((N*K*b[j,t] >= quicksum([x[i,j,k,t] for i in range(N) for k in range(K)]) for j in range(M) for t in range(T)), name = \"contrainte interne sur le début des projets\")\n",
    "    m.addConstrs((b[j,t] >= r[j,t] for j in range(M) for t in range(T)),name=\"début d'un projet avant sa fin\")\n",
    "    m.addConstrs((y >= quicksum([s[i,j] for j in range(M)]) for i in range(N)),name=\"linéarisation de l'objectif 2\")\n",
    "    m.addConstrs((z >= quicksum([b[j,t] - r[j,t] for t in range(T)]) for j in range(M)), name = \"linéarisation de l'objectif 3\")\n",
    "    m.addConstrs((r[j,t+1] >= r[j,t] for j in range(M) for t in range(T-1)),name=\"contrainte interne à la variable r\")\n",
    "    m.addConstrs((b[j,t+1] >= b[j,t] for j in range(M) for t in range(T-1)),name=\"contrainte interne à la variable b\")\n",
    "\n",
    "    obj1 = -quicksum([r[j,T-1]*(gains_vect[j]-quicksum([penalties_vect[j]*(1-r[j,t])*due_dates_mat[j,t] for t in range(T)])) for j in range(M)])\n",
    "    obj2 = y\n",
    "    obj3 = z\n",
    "    objs = [obj1,obj2,obj3]\n",
    "    m.addConstr(obj2 <= epsilon[1] , name = 'espilon constraint obj 2')\n",
    "    m.addConstr(obj3 <= epsilon[2] , name = 'espilon constraint obj 3')\n",
    "    m.setObjective(obj1, GRB.MINIMIZE)\n",
    "\n",
    "    # Paramétrage (mode mute)\n",
    "    m.params.outputflag = 0\n",
    "\n",
    "    # Résolution du PL\n",
    "    m.optimize()\n",
    "    \n",
    "    if m.status == GRB.INFEASIBLE:\n",
    "        raise Exception('no solution')\n",
    "    \n",
    "    if verbose:\n",
    "        print('planning for eps2 = {} and eps3 = {}'.format(epsilon[1],epsilon[2]))\n",
    "        print_plannings(N,M,K,T,mapping_names,vacation_mat,json_instance['qualifications'],x)\n",
    "        print('==================================')\n",
    "    \n",
    "    return [m.objVal, obj2.x, obj3.x]\n",
    "\n"
   ]
  },
  {
   "cell_type": "code",
   "execution_count": 57,
   "id": "19de1df4",
   "metadata": {},
   "outputs": [],
   "source": [
    "def epsilon_constraint():\n",
    "    pareto_surface = []\n",
    "    epsilon_constraints = []\n",
    "    epsilon = np.array(nadir_sol)\n",
    "    sol_2 = np.inf\n",
    "    feasible=True\n",
    "    while sol_2 > optimal_sol[1] and feasible :\n",
    "        sol_3 = np.inf\n",
    "        while sol_3 > optimal_sol[2] and feasible:\n",
    "            print('step with eps2 = {} and eps3 = {}'.format(epsilon[1],epsilon[2]))\n",
    "            try:\n",
    "                solution = solve_epsilon_constraint_prog(epsilon)\n",
    "            except:\n",
    "                feasible = False\n",
    "                break\n",
    "            pareto_surface.append(solution)\n",
    "            epsilon_constraints.append(epsilon.copy())\n",
    "            print('solution found : ', solution)\n",
    "            sol_2,sol_3 = solution[1],solution[2]\n",
    "            epsilon[2] = sol_3 - 1\n",
    "        epsilon[1] -= 1\n",
    "        epsilon[2] = nadir_sol[2]\n",
    "        if not(feasible):\n",
    "            try :\n",
    "                solve_epsilon_constraint_prog(epsilon)\n",
    "                feasible = True\n",
    "            except :\n",
    "                break\n",
    "    return pareto_surface,epsilon_constraints"
   ]
  },
  {
   "cell_type": "code",
   "execution_count": 59,
   "id": "1e3f1be9",
   "metadata": {},
   "outputs": [
    {
     "name": "stdout",
     "output_type": "stream",
     "text": [
      "step with eps2 = 5 and eps3 = 5\n",
      "solution found :  [-65.0, 5.0, 5.0]\n",
      "step with eps2 = 5 and eps3 = 4\n",
      "solution found :  [-65.0, 5.0, 4.0]\n",
      "step with eps2 = 5 and eps3 = 3\n",
      "solution found :  [-65.0, 5.0, 3.0]\n",
      "step with eps2 = 5 and eps3 = 2\n",
      "solution found :  [-65.0, 5.0, 2.0]\n",
      "step with eps2 = 5 and eps3 = 1\n",
      "solution found :  [-65.0, 5.0, 1.0]\n",
      "step with eps2 = 5 and eps3 = 0\n",
      "solution found :  [-59.0, 5.0, 0.0]\n",
      "step with eps2 = 4 and eps3 = 5\n",
      "solution found :  [-65.0, 4.0, 5.0]\n",
      "step with eps2 = 4 and eps3 = 4\n",
      "solution found :  [-65.0, 4.0, 4.0]\n",
      "step with eps2 = 4 and eps3 = 3\n",
      "solution found :  [-65.0, 4.0, 3.0]\n",
      "step with eps2 = 4 and eps3 = 2\n",
      "solution found :  [-65.0, 4.0, 2.0]\n",
      "step with eps2 = 4 and eps3 = 1\n",
      "solution found :  [-65.0, 4.0, 1.0]\n",
      "step with eps2 = 4 and eps3 = 0\n",
      "solution found :  [-59.0, 4.0, 0.0]\n",
      "step with eps2 = 3 and eps3 = 5\n",
      "solution found :  [-65.0, 3.0, 5.0]\n",
      "step with eps2 = 3 and eps3 = 4\n",
      "solution found :  [-65.0, 3.0, 4.0]\n",
      "step with eps2 = 3 and eps3 = 3\n",
      "solution found :  [-65.0, 3.0, 3.0]\n",
      "step with eps2 = 3 and eps3 = 2\n",
      "solution found :  [-65.0, 3.0, 2.0]\n",
      "step with eps2 = 3 and eps3 = 1\n",
      "solution found :  [-65.0, 3.0, 1.0]\n",
      "step with eps2 = 3 and eps3 = 0\n",
      "solution found :  [-49.0, 3.0, 0.0]\n",
      "step with eps2 = 2 and eps3 = 5\n",
      "solution found :  [-65.0, 2.0, 5.0]\n",
      "step with eps2 = 2 and eps3 = 4\n",
      "solution found :  [-65.0, 2.0, 4.0]\n",
      "step with eps2 = 2 and eps3 = 3\n",
      "solution found :  [-65.0, 2.0, 3.0]\n",
      "step with eps2 = 2 and eps3 = 2\n",
      "solution found :  [-65.0, 2.0, 2.0]\n",
      "step with eps2 = 2 and eps3 = 1\n",
      "solution found :  [-55.0, 2.0, 1.0]\n",
      "step with eps2 = 2 and eps3 = 0\n",
      "solution found :  [-37.0, 2.0, 0.0]\n",
      "step with eps2 = 1 and eps3 = 5\n",
      "solution found :  [-42.0, 1.0, 5.0]\n",
      "step with eps2 = 1 and eps3 = 4\n",
      "solution found :  [-42.0, 1.0, 4.0]\n",
      "step with eps2 = 1 and eps3 = 3\n",
      "solution found :  [-42.0, 1.0, 3.0]\n",
      "step with eps2 = 1 and eps3 = 2\n",
      "solution found :  [-42.0, 1.0, 2.0]\n",
      "step with eps2 = 1 and eps3 = 1\n",
      "solution found :  [-30.0, 1.0, 1.0]\n",
      "step with eps2 = 1 and eps3 = 0\n",
      "solution found :  [-20.0, 1.0, 0.0]\n",
      "step with eps2 = 0 and eps3 = 5\n",
      "solution found :  [0.0, 0.0, 5.0]\n",
      "step with eps2 = 0 and eps3 = 4\n",
      "solution found :  [0.0, 0.0, 4.0]\n",
      "step with eps2 = 0 and eps3 = 3\n",
      "solution found :  [0.0, 0.0, 3.0]\n",
      "step with eps2 = 0 and eps3 = 2\n",
      "solution found :  [0.0, 0.0, 2.0]\n",
      "step with eps2 = 0 and eps3 = 1\n",
      "solution found :  [0.0, 0.0, 1.0]\n",
      "step with eps2 = 0 and eps3 = 0\n",
      "solution found :  [0.0, 0.0, 0.0]\n"
     ]
    }
   ],
   "source": [
    "pareto_surface_non_filtered, epsilon_constraints = epsilon_constraint()\n",
    "pareto_surface_non_filtered = np.array(pareto_surface_non_filtered)\n",
    "epsilon_constraints = np.array(epsilon_constraints)"
   ]
  },
  {
   "cell_type": "code",
   "execution_count": 60,
   "id": "dbc3530a",
   "metadata": {},
   "outputs": [],
   "source": [
    "def is_pareto_efficient(pareto_front):\n",
    "    is_efficient = np.ones(pareto_front.shape[0], dtype = bool)\n",
    "    for i, c in enumerate(pareto_front):\n",
    "        if is_efficient[i]:\n",
    "            is_efficient[is_efficient] = np.any(pareto_front[is_efficient]<c, axis=1)  \n",
    "            is_efficient[i] = True  \n",
    "    return is_efficient\n",
    "    \n",
    "mask = is_pareto_efficient(pareto_surface_non_filtered)\n",
    "pareto_surface = pareto_surface_non_filtered[mask]\n",
    "epsilon_cstr = epsilon_constraints[mask]"
   ]
  },
  {
   "cell_type": "code",
   "execution_count": 61,
   "id": "82227870",
   "metadata": {},
   "outputs": [
    {
     "data": {
      "text/plain": [
       "array([[-59.,   4.,   0.],\n",
       "       [-65.,   3.,   1.],\n",
       "       [-49.,   3.,   0.],\n",
       "       [-65.,   2.,   2.],\n",
       "       [-55.,   2.,   1.],\n",
       "       [-37.,   2.,   0.],\n",
       "       [-42.,   1.,   2.],\n",
       "       [-30.,   1.,   1.],\n",
       "       [-20.,   1.,   0.],\n",
       "       [  0.,   0.,   0.]])"
      ]
     },
     "execution_count": 61,
     "metadata": {},
     "output_type": "execute_result"
    }
   ],
   "source": [
    "pareto_surface"
   ]
  },
  {
   "cell_type": "code",
   "execution_count": 62,
   "id": "1a0ca584",
   "metadata": {},
   "outputs": [
    {
     "data": {
      "text/plain": [
       "<mpl_toolkits.mplot3d.art3d.Path3DCollection at 0x2421236fd00>"
      ]
     },
     "execution_count": 62,
     "metadata": {},
     "output_type": "execute_result"
    },
    {
     "data": {
      "image/png": "[encoded data removed]",
      "text/plain": [
       "<Figure size 640x480 with 1 Axes>"
      ]
     },
     "metadata": {},
     "output_type": "display_data"
    }
   ],
   "source": [
    "from mpl_toolkits import mplot3d\n",
    "import matplotlib.pyplot as plt\n",
    "fig = plt.figure()\n",
    "ax = plt.axes(projection='3d')\n",
    "\n",
    "x_data = [t[0] for t in pareto_surface]\n",
    "y_data = [t[1] for t in pareto_surface]\n",
    "z_data = [t[2] for t in pareto_surface]\n",
    "ax.scatter3D(x_data,y_data,z_data)"
   ]
  },
  {
   "cell_type": "code",
   "execution_count": 67,
   "id": "51baec54",
   "metadata": {},
   "outputs": [
    {
     "name": "stdout",
     "output_type": "stream",
     "text": [
      "planning for eps2 = 4 and eps3 = 0\n",
      "planning de Olivia : \n",
      "jour 1 :  projet 5, compétence C\n",
      "jour 2 :  jour 3 :  projet 4, compétence B\n",
      "jour 4 :  projet 3, compétence C\n",
      "jour 5 :  projet 1, compétence B\n",
      "planning de Liam : \n",
      "jour 1 :  jour de congé\n",
      "jour 2 :  jour 3 :  projet 4, compétence B\n",
      "jour 4 :  projet 3, compétence A\n",
      "jour 5 :  projet 1, compétence A\n",
      "planning de Emma : \n",
      "jour 1 :  projet 5, compétence C\n",
      "jour 2 :  jour de congé\n",
      "jour 3 :  projet 4, compétence C\n",
      "jour 4 :  projet 3, compétence C\n",
      "jour 5 :  projet 1, compétence C\n",
      "==================================\n",
      "planning for eps2 = 3 and eps3 = 1\n",
      "planning de Olivia : \n",
      "jour 1 :  projet 1, compétence A\n",
      "jour 2 :  projet 1, compétence B\n",
      "jour 3 :  projet 3, compétence C\n",
      "jour 4 :  projet 3, compétence C\n",
      "jour 5 :  projet 5, compétence C\n",
      "planning de Liam : \n",
      "jour 1 :  jour de congé\n",
      "jour 2 :  projet 4, compétence B\n",
      "jour 3 :  projet 4, compétence B\n",
      "jour 4 :  projet 3, compétence A\n",
      "jour 5 :  projet 2, compétence B\n",
      "planning de Emma : \n",
      "jour 1 :  projet 1, compétence C\n",
      "jour 2 :  jour de congé\n",
      "jour 3 :  projet 4, compétence C\n",
      "jour 4 :  jour 5 :  projet 5, compétence C\n",
      "==================================\n",
      "planning for eps2 = 3 and eps3 = 0\n",
      "planning de Olivia : \n",
      "jour 1 :  jour 2 :  jour 3 :  projet 1, compétence A\n",
      "jour 4 :  projet 4, compétence B\n",
      "jour 5 :  projet 3, compétence C\n",
      "planning de Liam : \n",
      "jour 1 :  jour de congé\n",
      "jour 2 :  jour 3 :  projet 1, compétence B\n",
      "jour 4 :  projet 4, compétence B\n",
      "jour 5 :  projet 3, compétence A\n",
      "planning de Emma : \n",
      "jour 1 :  jour 2 :  jour de congé\n",
      "jour 3 :  projet 1, compétence C\n",
      "jour 4 :  projet 4, compétence C\n",
      "jour 5 :  projet 3, compétence C\n",
      "==================================\n",
      "planning for eps2 = 2 and eps3 = 2\n",
      "planning de Olivia : \n",
      "jour 1 :  projet 4, compétence B\n",
      "jour 2 :  projet 4, compétence B\n",
      "jour 3 :  projet 4, compétence C\n",
      "jour 4 :  projet 5, compétence C\n",
      "jour 5 :  projet 5, compétence C\n",
      "planning de Liam : \n",
      "jour 1 :  jour de congé\n",
      "jour 2 :  projet 1, compétence B\n",
      "jour 3 :  projet 1, compétence A\n",
      "jour 4 :  projet 3, compétence A\n",
      "jour 5 :  planning de Emma : \n",
      "jour 1 :  projet 1, compétence C\n",
      "jour 2 :  jour de congé\n",
      "jour 3 :  projet 3, compétence C\n",
      "jour 4 :  projet 3, compétence C\n",
      "jour 5 :  ==================================\n",
      "planning for eps2 = 2 and eps3 = 1\n",
      "planning de Olivia : \n",
      "jour 1 :  projet 1, compétence B\n",
      "jour 2 :  projet 1, compétence A\n",
      "jour 3 :  projet 4, compétence C\n",
      "jour 4 :  jour 5 :  planning de Liam : \n",
      "jour 1 :  jour de congé\n",
      "jour 2 :  projet 4, compétence B\n",
      "jour 3 :  projet 4, compétence B\n",
      "jour 4 :  projet 3, compétence A\n",
      "jour 5 :  planning de Emma : \n",
      "jour 1 :  projet 1, compétence C\n",
      "jour 2 :  jour de congé\n",
      "jour 3 :  projet 3, compétence C\n",
      "jour 4 :  projet 3, compétence C\n",
      "jour 5 :  ==================================\n",
      "planning for eps2 = 2 and eps3 = 0\n",
      "planning de Olivia : \n",
      "jour 1 :  jour 2 :  jour 3 :  projet 4, compétence B\n",
      "jour 4 :  projet 1, compétence B\n",
      "jour 5 :  planning de Liam : \n",
      "jour 1 :  jour de congé\n",
      "jour 2 :  jour 3 :  projet 4, compétence B\n",
      "jour 4 :  projet 1, compétence A\n",
      "jour 5 :  planning de Emma : \n",
      "jour 1 :  jour 2 :  jour de congé\n",
      "jour 3 :  projet 4, compétence C\n",
      "jour 4 :  projet 1, compétence C\n",
      "jour 5 :  ==================================\n",
      "planning for eps2 = 1 and eps3 = 2\n",
      "planning de Olivia : \n",
      "jour 1 :  projet 4, compétence B\n",
      "jour 2 :  projet 4, compétence B\n",
      "jour 3 :  projet 4, compétence C\n",
      "jour 4 :  jour 5 :  planning de Liam : \n",
      "jour 1 :  jour de congé\n",
      "jour 2 :  projet 2, compétence A\n",
      "jour 3 :  projet 2, compétence B\n",
      "jour 4 :  projet 2, compétence B\n",
      "jour 5 :  planning de Emma : \n",
      "jour 1 :  projet 5, compétence C\n",
      "jour 2 :  jour de congé\n",
      "jour 3 :  projet 5, compétence C\n",
      "jour 4 :  jour 5 :  ==================================\n",
      "planning for eps2 = 1 and eps3 = 1\n",
      "planning de Olivia : \n",
      "jour 1 :  jour 2 :  projet 4, compétence C\n",
      "jour 3 :  projet 4, compétence B\n",
      "jour 4 :  jour 5 :  planning de Liam : \n",
      "jour 1 :  jour de congé\n",
      "jour 2 :  jour 3 :  projet 4, compétence B\n",
      "jour 4 :  jour 5 :  planning de Emma : \n",
      "jour 1 :  jour 2 :  jour de congé\n",
      "jour 3 :  jour 4 :  projet 5, compétence C\n",
      "jour 5 :  projet 5, compétence C\n",
      "==================================\n",
      "planning for eps2 = 1 and eps3 = 0\n",
      "planning de Olivia : \n",
      "jour 1 :  jour 2 :  jour 3 :  projet 1, compétence A\n",
      "jour 4 :  jour 5 :  planning de Liam : \n",
      "jour 1 :  jour de congé\n",
      "jour 2 :  jour 3 :  projet 1, compétence B\n",
      "jour 4 :  jour 5 :  planning de Emma : \n",
      "jour 1 :  jour 2 :  jour de congé\n",
      "jour 3 :  projet 1, compétence C\n",
      "jour 4 :  jour 5 :  ==================================\n",
      "planning for eps2 = 0 and eps3 = 0\n",
      "planning de Olivia : \n",
      "jour 1 :  jour 2 :  jour 3 :  jour 4 :  jour 5 :  planning de Liam : \n",
      "jour 1 :  jour de congé\n",
      "jour 2 :  jour 3 :  jour 4 :  jour 5 :  planning de Emma : \n",
      "jour 1 :  jour 2 :  jour de congé\n",
      "jour 3 :  jour 4 :  jour 5 :  ==================================\n"
     ]
    }
   ],
   "source": [
    "for eps in epsilon_cstr :\n",
    "    solve_epsilon_constraint_prog(eps, verbose=True)"
   ]
  },
  {
   "cell_type": "code",
   "execution_count": null,
   "id": "45d742b6",
   "metadata": {},
   "outputs": [],
   "source": []
  }
 ],
 "metadata": {
  "kernelspec": {
   "display_name": "Python 3 (ipykernel)",
   "language": "python",
   "name": "python3"
  },
  "language_info": {
   "codemirror_mode": {
    "name": "ipython",
    "version": 3
   },
   "file_extension": ".py",
   "mimetype": "text/x-python",
   "name": "python",
   "nbconvert_exporter": "python",
   "pygments_lexer": "ipython3",
   "version": "3.10.7"
  }
 },
 "nbformat": 4,
 "nbformat_minor": 5
}

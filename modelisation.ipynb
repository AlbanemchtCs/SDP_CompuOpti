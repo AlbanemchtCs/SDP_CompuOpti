{
 "cells": [
  {
   "cell_type": "code",
   "execution_count": 2,
   "id": "f23e2926",
   "metadata": {},
   "outputs": [],
   "source": [
    "from gurobipy import *"
   ]
  },
  {
   "cell_type": "code",
   "execution_count": 3,
   "id": "9799d870",
   "metadata": {},
   "outputs": [],
   "source": [
    "import json\n",
    "with open('toy_instance.json') as f:\n",
    "    json_instance = json.load(f)\n",
    "    f.close()"
   ]
  },
  {
   "cell_type": "code",
   "execution_count": 4,
   "id": "f27565ca",
   "metadata": {},
   "outputs": [
    {
     "data": {
      "text/plain": [
       "{'horizon': 5,\n",
       " 'qualifications': ['A', 'B', 'C'],\n",
       " 'staff': [{'name': 'Olivia',\n",
       "   'qualifications': ['A', 'B', 'C'],\n",
       "   'vacations': []},\n",
       "  {'name': 'Liam', 'qualifications': ['A', 'B'], 'vacations': [1]},\n",
       "  {'name': 'Emma', 'qualifications': ['C'], 'vacations': [2]}],\n",
       " 'jobs': [{'name': 'Job1',\n",
       "   'gain': 20,\n",
       "   'due_date': 3,\n",
       "   'daily_penalty': 3,\n",
       "   'working_days_per_qualification': {'A': 1, 'B': 1, 'C': 1}},\n",
       "  {'name': 'Job2',\n",
       "   'gain': 15,\n",
       "   'due_date': 3,\n",
       "   'daily_penalty': 3,\n",
       "   'working_days_per_qualification': {'A': 1, 'B': 2}},\n",
       "  {'name': 'Job3',\n",
       "   'gain': 15,\n",
       "   'due_date': 4,\n",
       "   'daily_penalty': 3,\n",
       "   'working_days_per_qualification': {'A': 1, 'C': 2}},\n",
       "  {'name': 'Job4',\n",
       "   'gain': 20,\n",
       "   'due_date': 3,\n",
       "   'daily_penalty': 3,\n",
       "   'working_days_per_qualification': {'B': 2, 'C': 1}},\n",
       "  {'name': 'Job5',\n",
       "   'gain': 10,\n",
       "   'due_date': 5,\n",
       "   'daily_penalty': 3,\n",
       "   'working_days_per_qualification': {'C': 2}}]}"
      ]
     },
     "execution_count": 4,
     "metadata": {},
     "output_type": "execute_result"
    }
   ],
   "source": [
    "json_instance"
   ]
  },
  {
   "cell_type": "code",
   "execution_count": 18,
   "id": "9b683b2d",
   "metadata": {},
   "outputs": [],
   "source": [
    "N = len(json_instance['staff'])\n",
    "M = len(json_instance['jobs'])\n",
    "K = len(json_instance['qualifications'])\n",
    "T = int(json_instance['horizon'])"
   ]
  },
  {
   "cell_type": "code",
   "execution_count": 75,
   "id": "e346f071",
   "metadata": {},
   "outputs": [
    {
     "data": {
      "text/plain": [
       "{0: 'Olivia', 1: 'Liam', 2: 'Emma'}"
      ]
     },
     "execution_count": 75,
     "metadata": {},
     "output_type": "execute_result"
    }
   ],
   "source": [
    "mapping_names = {}\n",
    "for i in range(len(json_instance['staff'])):\n",
    "    mapping_names[i] = json_instance['staff'][i]['name']\n",
    "mapping_names"
   ]
  },
  {
   "cell_type": "code",
   "execution_count": 81,
   "id": "0618ef5d",
   "metadata": {},
   "outputs": [
    {
     "data": {
      "text/plain": [
       "{'A': 0, 'B': 1, 'C': 2}"
      ]
     },
     "execution_count": 81,
     "metadata": {},
     "output_type": "execute_result"
    }
   ],
   "source": [
    "mapping_qualif = {v:k for (k,v) in enumerate(json_instance['qualifications'])}\n",
    "mapping_qualif"
   ]
  },
  {
   "cell_type": "code",
   "execution_count": 29,
   "id": "a9d6b8e7",
   "metadata": {},
   "outputs": [
    {
     "data": {
      "text/plain": [
       "array([[1., 1., 1.],\n",
       "       [1., 1., 0.],\n",
       "       [0., 0., 1.]])"
      ]
     },
     "execution_count": 29,
     "metadata": {},
     "output_type": "execute_result"
    }
   ],
   "source": [
    "import numpy as np\n",
    "qualifications_mat = np.zeros((N,K))\n",
    "for i in range(N):\n",
    "    for qual_k in json_instance['staff'][i]['qualifications']:\n",
    "        qualifications_mat[i,mapping_qualif[qual_k]]=1\n",
    "qualifications_mat\n"
   ]
  },
  {
   "cell_type": "code",
   "execution_count": 49,
   "id": "0e6c2711",
   "metadata": {},
   "outputs": [
    {
     "data": {
      "text/plain": [
       "array([[1., 1., 1., 1., 1.],\n",
       "       [0., 1., 1., 1., 1.],\n",
       "       [1., 0., 1., 1., 1.]])"
      ]
     },
     "execution_count": 49,
     "metadata": {},
     "output_type": "execute_result"
    }
   ],
   "source": [
    "vacation_mat = np.ones((N,T))\n",
    "for i in range(N):\n",
    "    for t in json_instance['staff'][i]['vacations']:\n",
    "        vacation_mat[i,t-1]=0\n",
    "vacation_mat"
   ]
  },
  {
   "cell_type": "code",
   "execution_count": 31,
   "id": "a30f98b0",
   "metadata": {},
   "outputs": [
    {
     "data": {
      "text/plain": [
       "array([[1., 1., 1.],\n",
       "       [1., 2., 0.],\n",
       "       [1., 0., 2.],\n",
       "       [0., 2., 1.],\n",
       "       [0., 0., 2.]])"
      ]
     },
     "execution_count": 31,
     "metadata": {},
     "output_type": "execute_result"
    }
   ],
   "source": [
    "wd_per_qual_mat = np.zeros((M,K))\n",
    "for j in range(M):\n",
    "    for qual,wd in json_instance['jobs'][j]['working_days_per_qualification'].items():\n",
    "        wd_per_qual_mat[j,mapping_qualif[qual]] = wd\n",
    "wd_per_qual_mat\n"
   ]
  },
  {
   "cell_type": "code",
   "execution_count": 46,
   "id": "be902e37",
   "metadata": {},
   "outputs": [
    {
     "data": {
      "text/plain": [
       "array([20., 15., 15., 20., 10.])"
      ]
     },
     "execution_count": 46,
     "metadata": {},
     "output_type": "execute_result"
    }
   ],
   "source": [
    "gains_vect = np.zeros((M,))\n",
    "for j in range(M):\n",
    "    gains_vect[j] = json_instance['jobs'][j]['gain']\n",
    "gains_vect"
   ]
  },
  {
   "cell_type": "code",
   "execution_count": 47,
   "id": "6c416faf",
   "metadata": {},
   "outputs": [
    {
     "data": {
      "text/plain": [
       "array([3., 3., 3., 3., 3.])"
      ]
     },
     "execution_count": 47,
     "metadata": {},
     "output_type": "execute_result"
    }
   ],
   "source": [
    "penalties_vect = np.zeros((M,))\n",
    "for j in range(M):\n",
    "    penalties_vect[j] = json_instance['jobs'][j]['daily_penalty']\n",
    "penalties_vect"
   ]
  },
  {
   "cell_type": "code",
   "execution_count": 50,
   "id": "53383f15",
   "metadata": {},
   "outputs": [
    {
     "data": {
      "text/plain": [
       "array([[0., 0., 1., 1., 1.],\n",
       "       [0., 0., 1., 1., 1.],\n",
       "       [0., 0., 0., 1., 1.],\n",
       "       [0., 0., 1., 1., 1.],\n",
       "       [0., 0., 0., 0., 1.]])"
      ]
     },
     "execution_count": 50,
     "metadata": {},
     "output_type": "execute_result"
    }
   ],
   "source": [
    "due_dates_mat = np.zeros((M,T))\n",
    "for j in range(M):\n",
    "    for t in range(json_instance['jobs'][j]['due_date']-1,T):\n",
    "        due_dates_mat[j,t] = 1\n",
    "due_dates_mat"
   ]
  },
  {
   "cell_type": "code",
   "execution_count": 87,
   "id": "dc72fe99",
   "metadata": {},
   "outputs": [
    {
     "name": "stdout",
     "output_type": "stream",
     "text": [
      "None\n",
      "La valeur optimale de l'objectif est f1 = 65.0\n",
      "planning de Olivia : \n",
      "jour 1 :  projet 1, compétence A\n",
      "jour 2 :  projet 2, compétence B\n",
      "jour 3 :  projet 4, compétence B\n",
      "jour 4 :  projet 3, compétence C\n",
      "jour 5 :  projet 5, compétence C\n",
      "planning de Liam : \n",
      "jour 1 :  jour de congé\n",
      "jour 2 :  projet 1, compétence B\n",
      "jour 3 :  projet 4, compétence B\n",
      "jour 4 :  projet 3, compétence A\n",
      "jour 5 :  projet 2, compétence B\n",
      "planning de Emma : \n",
      "jour 1 :  projet 4, compétence C\n",
      "jour 2 :  jour de congé\n",
      "jour 3 :  projet 1, compétence C\n",
      "jour 4 :  projet 3, compétence C\n",
      "jour 5 :  projet 5, compétence C\n"
     ]
    }
   ],
   "source": [
    "# Instanciation du modèle\n",
    "m = Model(\"PL modelling CompuOpti\")\n",
    "\n",
    "# Vecteur de variables\n",
    "x = m.addVars(N,M,K,T,name=\"x\", vtype=GRB.BINARY)\n",
    "r = m.addVars(M,T, name=\"r\", vtype=GRB.BINARY)\n",
    "s = m.addVars(N,M, name=\"s\", vtype=GRB.BINARY)\n",
    "b = m.addVars(M,T, name=\"b\", vtype=GRB.BINARY)\n",
    "y = m.addVar(name=\"y\",vtype=GRB.INTEGER)\n",
    "z = m.addVar(name=\"z\",vtype=GRB.INTEGER)\n",
    "\n",
    "m.update()\n",
    "\n",
    "m.addConstrs((x[i,j,k,t] <= qualifications_mat[i,k] for i in range(N) for j in range(M) for k in range(K) for t in range(T)), name = \"qualification du personnel\")\n",
    "m.addConstrs((quicksum([x[i,j,k,t] for j in range(M) for k in range(K)]) <= 1 for i in range(N) for t in range(T)),name=\"unicité de l'affectation quotidienne du personnel\")\n",
    "m.addConstrs((x[i,j,k,t] <= vacation_mat[i,t] for i in range(N) for j in range(M) for k in range(K) for t in range(T)), name = \"congés\")\n",
    "m.addConstrs(( quicksum([x[i,j,k,tau] for i in range(N) for tau in range(t+1)]) >= r[j,t] * wd_per_qual_mat[j,k] for j in range(M) for k in range(K) for t in range(T)),name=\"couverture des qualifications\")\n",
    "m.addConstrs(( quicksum([x[i,j,k,tau] for i in range(N) for tau in range(t+1)]) <= wd_per_qual_mat[j,k] for j in range(M) for k in range(K) for t in range(T)),name=\"unicité de la réalisation d'un projet\")\n",
    "m.addConstrs((b[j,t] >= r[j,t] for j in range(M) for t in range(T)),name=\"début d'un projet avant sa fin\")\n",
    "m.addConstrs((y >= quicksum([s[i,j] for j in range(M)]) for i in range(N)),name=\"linéarisation de l'objectif 2\")\n",
    "m.addConstrs((z >= quicksum([b[j,t] - r[j,t] for t in range(T)]) for j in range(M)), name = \"linéarisation de l'objectif 3\")\n",
    "m.addConstrs((r[j,t+1] >= r[j,t] for j in range(M) for t in range(T-1)),name=\"contrainte interne à la variable r\")\n",
    "m.addConstrs((b[j,t+1] >= b[j,t] for j in range(M) for t in range(T-1)),name=\"contrainte interne à la variable b\")\n",
    "\n",
    "m.setObjective(quicksum([r[j,T-1]*(gains_vect[j]-quicksum([penalties_vect[j]*(1-r[j,t])*due_dates_mat[j,t] for t in range(T)])) for j in range(M)]), GRB.MAXIMIZE)\n",
    "\n",
    "# Paramétrage (mode mute)\n",
    "m.params.outputflag = 0\n",
    "\n",
    "# Résolution du PL\n",
    "m.optimize()\n",
    "\n",
    "# Affichage en mode texte du PL\n",
    "print(m.display())\n",
    "\n",
    "print(\"La valeur optimale de l'objectif est f1 = {}\".format(m.objVal))\n",
    "\n",
    "for i in range(N):\n",
    "    print('planning de {} : '.format(mapping_names[i]))\n",
    "    for t in range(T):\n",
    "        print('jour {} : '.format(t+1),end=' ')\n",
    "        if vacation_mat[i,t]==0:\n",
    "                    print('jour de congé')\n",
    "        for j in range(M):\n",
    "            for k in range(K):\n",
    "                if x[i,j,k,t].X == 1 :\n",
    "                    print('projet {}, compétence {}'.format(j+1,json_instance['qualifications'][k]))\n",
    "                "
   ]
  },
  {
   "cell_type": "code",
   "execution_count": 89,
   "id": "d2e3ab71",
   "metadata": {},
   "outputs": [
    {
     "name": "stdout",
     "output_type": "stream",
     "text": [
      "None\n",
      "La valeur optimale de l'objectif est f2 = 0.0\n",
      "planning de Olivia : \n",
      "jour 1 :  jour 2 :  jour 3 :  jour 4 :  jour 5 :  planning de Liam : \n",
      "jour 1 :  jour de congé\n",
      "jour 2 :  jour 3 :  jour 4 :  jour 5 :  planning de Emma : \n",
      "jour 1 :  jour 2 :  jour de congé\n",
      "jour 3 :  jour 4 :  jour 5 :  "
     ]
    }
   ],
   "source": [
    "# Instanciation du modèle\n",
    "m2 = Model(\"PL modelling CompuOpti\")\n",
    "\n",
    "# Vecteur de variables\n",
    "x = m2.addVars(N,M,K,T,name=\"x\", vtype=GRB.BINARY)\n",
    "r = m2.addVars(M,T, name=\"r\", vtype=GRB.BINARY)\n",
    "s = m2.addVars(N,M, name=\"s\", vtype=GRB.BINARY)\n",
    "b = m2.addVars(M,T, name=\"b\", vtype=GRB.BINARY)\n",
    "y = m2.addVar(name=\"y\",vtype=GRB.INTEGER)\n",
    "z = m2.addVar(name=\"z\",vtype=GRB.INTEGER)\n",
    "\n",
    "m2.update()\n",
    "\n",
    "m2.addConstrs((x[i,j,k,t] <= qualifications_mat[i,k] for i in range(N) for j in range(M) for k in range(K) for t in range(T)), name = \"qualification du personnel\")\n",
    "m2.addConstrs((quicksum([x[i,j,k,t] for j in range(M) for k in range(K)]) <= 1 for i in range(N) for t in range(T)),name=\"unicité de l'affectation quotidienne du personnel\")\n",
    "m2.addConstrs((x[i,j,k,t] <= vacation_mat[i,t] for i in range(N) for j in range(M) for k in range(K) for t in range(T)), name = \"congés\")\n",
    "m2.addConstrs(( quicksum([x[i,j,k,tau] for i in range(N) for tau in range(t+1)]) >= r[j,t] * wd_per_qual_mat[j,k] for j in range(M) for k in range(K) for t in range(T)),name=\"couverture des qualifications\")\n",
    "m2.addConstrs(( quicksum([x[i,j,k,tau] for i in range(N) for tau in range(t+1)]) <= wd_per_qual_mat[j,k] for j in range(M) for k in range(K) for t in range(T)),name=\"unicité de la réalisation d'un projet\")\n",
    "m2.addConstrs((b[j,t] >= r[j,t] for j in range(M) for t in range(T)),name=\"début d'un projet avant sa fin\")\n",
    "m2.addConstrs((y >= quicksum([s[i,j] for j in range(M)]) for i in range(N)),name=\"linéarisation de l'objectif 2\")\n",
    "m2.addConstrs((z >= quicksum([b[j,t] - r[j,t] for t in range(T)]) for j in range(M)), name = \"linéarisation de l'objectif 3\")\n",
    "m2.addConstrs((r[j,t+1] >= r[j,t] for j in range(M) for t in range(T-1)),name=\"contrainte interne à la variable r\")\n",
    "m2.addConstrs((b[j,t+1] >= b[j,t] for j in range(M) for t in range(T-1)),name=\"contrainte interne à la variable b\")\n",
    "\n",
    "m2.setObjective(y, GRB.MINIMIZE)\n",
    "\n",
    "# Paramétrage (mode mute)\n",
    "m2.params.outputflag = 0\n",
    "\n",
    "# Résolution du PL\n",
    "m2.optimize()\n",
    "\n",
    "# Affichage en mode texte du PL\n",
    "print(m2.display())\n",
    "\n",
    "print(\"La valeur optimale de l'objectif est f2 = {}\".format(m2.objVal))\n",
    "\n",
    "for i in range(N):\n",
    "    print('planning de {} : '.format(mapping_names[i]))\n",
    "    for t in range(T):\n",
    "        print('jour {} : '.format(t+1),end=' ')\n",
    "        if vacation_mat[i,t]==0:\n",
    "                    print('jour de congé')\n",
    "        for j in range(M):\n",
    "            for k in range(K):\n",
    "                if x[i,j,k,t].X == 1 :\n",
    "                    print('projet {}, compétence {}'.format(j+1,json_instance['qualifications'][k]))\n"
   ]
  },
  {
   "cell_type": "code",
   "execution_count": 90,
   "id": "e11d6dac",
   "metadata": {},
   "outputs": [
    {
     "name": "stdout",
     "output_type": "stream",
     "text": [
      "None\n",
      "La valeur optimale de l'objectif est f3 = 0.0\n",
      "planning de Olivia : \n",
      "jour 1 :  jour 2 :  jour 3 :  jour 4 :  jour 5 :  planning de Liam : \n",
      "jour 1 :  jour de congé\n",
      "jour 2 :  jour 3 :  jour 4 :  jour 5 :  planning de Emma : \n",
      "jour 1 :  jour 2 :  jour de congé\n",
      "jour 3 :  jour 4 :  jour 5 :  "
     ]
    }
   ],
   "source": [
    "# Instanciation du modèle\n",
    "m3 = Model(\"PL modelling CompuOpti\")\n",
    "\n",
    "# Vecteur de variables\n",
    "x = m3.addVars(N,M,K,T,name=\"x\", vtype=GRB.BINARY)\n",
    "r = m3.addVars(M,T, name=\"r\", vtype=GRB.BINARY)\n",
    "s = m3.addVars(N,M, name=\"s\", vtype=GRB.BINARY)\n",
    "b = m3.addVars(M,T, name=\"b\", vtype=GRB.BINARY)\n",
    "y = m3.addVar(name=\"y\",vtype=GRB.INTEGER)\n",
    "z = m3.addVar(name=\"z\",vtype=GRB.INTEGER)\n",
    "\n",
    "m3.update()\n",
    "\n",
    "m3.addConstrs((x[i,j,k,t] <= qualifications_mat[i,k] for i in range(N) for j in range(M) for k in range(K) for t in range(T)), name = \"qualification du personnel\")\n",
    "m3.addConstrs((quicksum([x[i,j,k,t] for j in range(M) for k in range(K)]) <= 1 for i in range(N) for t in range(T)),name=\"unicité de l'affectation quotidienne du personnel\")\n",
    "m3.addConstrs((x[i,j,k,t] <= vacation_mat[i,t] for i in range(N) for j in range(M) for k in range(K) for t in range(T)), name = \"congés\")\n",
    "m3.addConstrs(( quicksum([x[i,j,k,tau] for i in range(N) for tau in range(t+1)]) >= r[j,t] * wd_per_qual_mat[j,k] for j in range(M) for k in range(K) for t in range(T)),name=\"couverture des qualifications\")\n",
    "m3.addConstrs(( quicksum([x[i,j,k,tau] for i in range(N) for tau in range(t+1)]) <= wd_per_qual_mat[j,k] for j in range(M) for k in range(K) for t in range(T)),name=\"unicité de la réalisation d'un projet\")\n",
    "m3.addConstrs((b[j,t] >= r[j,t] for j in range(M) for t in range(T)),name=\"début d'un projet avant sa fin\")\n",
    "m3.addConstrs((y >= quicksum([s[i,j] for j in range(M)]) for i in range(N)),name=\"linéarisation de l'objectif 2\")\n",
    "m3.addConstrs((z >= quicksum([b[j,t] - r[j,t] for t in range(T)]) for j in range(M)), name = \"linéarisation de l'objectif 3\")\n",
    "m3.addConstrs((r[j,t+1] >= r[j,t] for j in range(M) for t in range(T-1)),name=\"contrainte interne à la variable r\")\n",
    "m3.addConstrs((b[j,t+1] >= b[j,t] for j in range(M) for t in range(T-1)),name=\"contrainte interne à la variable b\")\n",
    "\n",
    "m3.setObjective(z,GRB.MINIMIZE)\n",
    "\n",
    "# Paramétrage (mode mute)\n",
    "m3.params.outputflag = 0\n",
    "\n",
    "# Résolution du PL\n",
    "m3.optimize()\n",
    "\n",
    "# Affichage en mode texte du PL\n",
    "print(m3.display())\n",
    "\n",
    "print(\"La valeur optimale de l'objectif est f3 = {}\".format(m3.objVal))\n",
    "\n",
    "for i in range(N):\n",
    "    print('planning de {} : '.format(mapping_names[i]))\n",
    "    for t in range(T):\n",
    "        print('jour {} : '.format(t+1),end=' ')\n",
    "        if vacation_mat[i,t]==0:\n",
    "                    print('jour de congé')\n",
    "        for j in range(M):\n",
    "            for k in range(K):\n",
    "                if x[i,j,k,t].X == 1 :\n",
    "                    print('projet {}, compétence {}'.format(j+1,json_instance['qualifications'][k]))"
   ]
  },
  {
   "cell_type": "code",
   "execution_count": null,
   "id": "784a0f67",
   "metadata": {},
   "outputs": [],
   "source": []
  }
 ],
 "metadata": {
  "kernelspec": {
   "display_name": "Python 3 (ipykernel)",
   "language": "python",
   "name": "python3"
  },
  "language_info": {
   "codemirror_mode": {
    "name": "ipython",
    "version": 3
   },
   "file_extension": ".py",
   "mimetype": "text/x-python",
   "name": "python",
   "nbconvert_exporter": "python",
   "pygments_lexer": "ipython3",
   "version": "3.10.7"
  }
 },
 "nbformat": 4,
 "nbformat_minor": 5
}
